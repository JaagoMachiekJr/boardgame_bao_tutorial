{
 "cells": [
  {
   "cell_type": "code",
   "execution_count": 1,
   "metadata": {
    "collapsed": true
   },
   "outputs": [],
   "source": [
    "from __future__ import print_function"
   ]
  },
  {
   "cell_type": "code",
   "execution_count": null,
   "metadata": {
    "collapsed": true
   },
   "outputs": [],
   "source": []
  },
  {
   "cell_type": "code",
   "execution_count": 2,
   "metadata": {
    "collapsed": true
   },
   "outputs": [],
   "source": [
    "# Create the main program skeleton"
   ]
  },
  {
   "cell_type": "code",
   "execution_count": 3,
   "metadata": {
    "collapsed": false
   },
   "outputs": [
    {
     "name": "stdout",
     "output_type": "stream",
     "text": [
      "Overwriting main.py\n"
     ]
    }
   ],
   "source": [
    "%%file main.py\n",
    "from kivy.app import App\n",
    "from kivy.uix.boxlayout import BoxLayout\n",
    "\n",
    "class BaoGame(BoxLayout):\n",
    "    pass\n",
    "\n",
    "class BaoApp(App):\n",
    "    def build(self):\n",
    "        bg = BaoGame()\n",
    "        return bg\n",
    "    \n",
    "if __name__ == '__main__':\n",
    "    BaoApp().run()"
   ]
  },
  {
   "cell_type": "code",
   "execution_count": 4,
   "metadata": {
    "collapsed": false
   },
   "outputs": [
    {
     "name": "stdout",
     "output_type": "stream",
     "text": [
      "Overwriting bao.kv\n"
     ]
    }
   ],
   "source": [
    "%%file bao.kv\n",
    "#:include debug.kv\n",
    "<BaoGame>:\n",
    "    id: _game\n",
    "    orientation: 'vertical'\n",
    "    canvas.before:\n",
    "        Color:\n",
    "            rgba: 1,1,1,1\n",
    "        Rectangle:\n",
    "            size: self.size\n",
    "            pos: self.pos\n",
    "    BoxLayout:\n",
    "        id: _toolbar\n",
    "        size_hint: 1, 0.1\n",
    "        DebugLabel:\n",
    "            text: 'toolbar'\n",
    "    BoxLayout:\n",
    "        id: _game_area\n",
    "        DebugLabel:\n",
    "            text: 'grid'\n"
   ]
  },
  {
   "cell_type": "markdown",
   "metadata": {},
   "source": [
    "## Game Board Image\n",
    "We want to load the image of the game board, and layer a gridlayout on top for game pieces.\n",
    "By default, kivy preserves the image aspect ratio, but centers it in the parent widget.\n",
    "We can obtain the size of the rescaled image by looking at its `norm_image_size` property, and then simply center the gridlayout using the usual `pos_hint` technique.\n",
    "\n"
   ]
  },
  {
   "cell_type": "code",
   "execution_count": 5,
   "metadata": {
    "collapsed": false
   },
   "outputs": [
    {
     "name": "stdout",
     "output_type": "stream",
     "text": [
      "Overwriting bao.kv\n"
     ]
    }
   ],
   "source": [
    "%%file bao.kv\n",
    "#:include debug.kv\n",
    "<BaoGame>:\n",
    "    id: _game\n",
    "    orientation: 'vertical'\n",
    "    canvas.before:\n",
    "        Color:\n",
    "            rgba: 1,1,1,1\n",
    "        Rectangle:\n",
    "            size: self.size\n",
    "            pos: self.pos\n",
    "    BoxLayout:\n",
    "        id: _toolbar\n",
    "        size_hint: 1, 0.1\n",
    "        DebugLabel:\n",
    "            text: 'toolbar'\n",
    "    BoxLayout:\n",
    "        id: _game_area\n",
    "        FloatLayout:\n",
    "            Image:\n",
    "                id: _game_board\n",
    "                source: 'assets/graphics/bao-board-2-6.png'\n",
    "            GridLayout:\n",
    "                game_board: _game_board\n",
    "                size_hint: None, None\n",
    "                size: self.game_board.norm_image_size\n",
    "                pos_hint: {'center_x': 0.5, 'center_y': 0.5}\n",
    "                DebugLabel:\n",
    "                    text: 'grid'"
   ]
  },
  {
   "cell_type": "markdown",
   "metadata": {},
   "source": [
    "Now we need to align a grid over our pits. This is a little bit of trial and error, but it can be done. The trick is to set padding and spacing as a function of the actual board image size; i.e.\n",
    "```\n",
    " padding: [self.game_board.width * 0.015, self.game_board.width * 0.05]\n",
    " spacing: self.game_board.width * 0.015\n",
    "```"
   ]
  },
  {
   "cell_type": "code",
   "execution_count": 384,
   "metadata": {
    "collapsed": false
   },
   "outputs": [
    {
     "name": "stdout",
     "output_type": "stream",
     "text": [
      "Overwriting bao.kv\n"
     ]
    }
   ],
   "source": [
    "%%file bao.kv\n",
    "#:include debug.kv\n",
    "<BaoGame>:\n",
    "    id: _game\n",
    "    orientation: 'vertical'\n",
    "    canvas.before:\n",
    "        Color:\n",
    "            rgba: 1,1,1,1\n",
    "        Rectangle:\n",
    "            size: self.size\n",
    "            pos: self.pos\n",
    "    BoxLayout:\n",
    "        id: _toolbar\n",
    "        size_hint: 1, 0.1\n",
    "        DebugLabel:\n",
    "            text: 'toolbar'\n",
    "                \n",
    "    FloatLayout:\n",
    "        id: _game_area\n",
    "        Image:\n",
    "            id: _game_board\n",
    "            source: 'assets/graphics/bao-board-2-6.png'\n",
    "        GridLayout:\n",
    "            game_board: _game_board\n",
    "            size_hint: None, None\n",
    "            size: self.game_board.norm_image_size\n",
    "            pos_hint: {'center_x': 0.5, 'center_y': 0.5}\n",
    "            padding: [self.width * 0.01, self.height * 0.18]\n",
    "            spacing: self.width * 0.01\n",
    "            cols: 8\n",
    "            DebugLabel:\n",
    "            DebugLabel:\n",
    "            DebugLabel:\n",
    "            DebugLabel:\n",
    "            DebugLabel:\n",
    "            DebugLabel:\n",
    "            DebugLabel:\n",
    "            DebugLabel:\n",
    "            DebugLabel:\n",
    "            DebugLabel:\n",
    "            DebugLabel:\n",
    "            DebugLabel:\n",
    "            DebugLabel:\n",
    "            DebugLabel:\n",
    "            DebugLabel:\n",
    "            DebugLabel:\n"
   ]
  },
  {
   "cell_type": "markdown",
   "metadata": {},
   "source": [
    "Let's tweak these a bit to better match the underlying pit sizes"
   ]
  },
  {
   "cell_type": "code",
   "execution_count": 428,
   "metadata": {
    "collapsed": false
   },
   "outputs": [
    {
     "name": "stdout",
     "output_type": "stream",
     "text": [
      "Overwriting bao.kv\n"
     ]
    }
   ],
   "source": [
    "%%file bao.kv\n",
    "#:include debug.kv\n",
    "<BaoGame>:\n",
    "    id: _game\n",
    "    orientation: 'vertical'\n",
    "    \n",
    "    canvas.before:\n",
    "        Color:\n",
    "            rgba: 1,1,1,1\n",
    "        Rectangle:\n",
    "            size: self.size\n",
    "            pos: self.pos\n",
    "                \n",
    "    board_overlay: _board_overlay\n",
    "    toolbar: _toolbar\n",
    "        \n",
    "    BoxLayout:\n",
    "        id: _toolbar\n",
    "        size_hint: 1, 0.1\n",
    "        DebugLabel:\n",
    "            text: 'toolbar'\n",
    "                \n",
    "    FloatLayout:\n",
    "        id: _game_area\n",
    "        Image:\n",
    "            id: _game_board\n",
    "            source: 'assets/graphics/bao-board-2-6.png'\n",
    "        BoxLayout:\n",
    "            id: _board_overlay\n",
    "            orientation: 'horizontal'\n",
    "            game_board: _game_board\n",
    "            size_hint: None, None\n",
    "            size: self.game_board.norm_image_size\n",
    "            pos_hint: {'center_x': 0.5, 'center_y': 0.5}\n",
    "            padding: [self.width * 0.01, self.height * 0.18]\n",
    "            spacing: self.width * 0.01\n",
    "            Pit:\n",
    "                padding: [self.parent.parent.width * 0.018, self.parent.parent.height * 0.02]\n",
    "                pit_id: 13\n",
    "                text: str(self.pit_id)\n",
    "\n",
    "            GridLayout:\n",
    "                id: _player_pits\n",
    "                size_hint: 6,1\n",
    "                cols: 6\n",
    "                padding: [self.parent.width * 0.008, self.parent.height * 0.012]\n",
    "                spacing: [self.parent.width * 0.034, self.parent.height * 0.16]\n",
    "                Pit:\n",
    "                    pit_id:12\n",
    "                    text: str(self.pit_id)\n",
    "                Pit:\n",
    "                    pit_id:11\n",
    "                    text: str(self.pit_id)\n",
    "                Pit:\n",
    "                    pit_id:10\n",
    "                    text: str(self.pit_id)\n",
    "                Pit:\n",
    "                    pit_id:9\n",
    "                    text: str(self.pit_id)\n",
    "                Pit:\n",
    "                    pit_id:8\n",
    "                    text: str(self.pit_id)\n",
    "                Pit:\n",
    "                    pit_id:7\n",
    "                    text: str(self.pit_id)\n",
    "                Pit:\n",
    "                    pit_id:0\n",
    "                    text: str(self.pit_id)\n",
    "                Pit:\n",
    "                    pit_id:1\n",
    "                    text: str(self.pit_id)\n",
    "                Pit:\n",
    "                    pit_id:2\n",
    "                    text: str(self.pit_id)\n",
    "                Pit:\n",
    "                    pit_id:3\n",
    "                    text: str(self.pit_id)\n",
    "                Pit:\n",
    "                    pit_id:4\n",
    "                    text: str(self.pit_id)\n",
    "                Pit:                \n",
    "                    pit_id:5\n",
    "                    text: str(self.pit_id)\n",
    "            Pit:\n",
    "                padding: [self.parent.parent.width * 0.018, self.parent.parent.height * 0.02]\n",
    "                pit_id:6\n",
    "                text: str(self.pit_id)\n",
    "\n",
    "<Pit@BoxLayout>:\n",
    "    id: _pit\n",
    "    text: ''\n",
    "    FloatLayout:\n",
    "        size: self.size\n",
    "        pos: self.pos\n",
    "        DebugLabel:\n",
    "            size: self.parent.size\n",
    "            pos: self.parent.pos\n",
    "            text: root.text"
   ]
  },
  {
   "cell_type": "markdown",
   "metadata": {},
   "source": [
    "## Attaching to the game engine\n",
    "Eventually, we will need the act of touching a pit to start a move (sowing from that pit location). For now, let's hook up our bao engine to the kivy interface, and associate each pit (indicated by the `pit_id` property) to the pit object in the bao engine."
   ]
  },
  {
   "cell_type": "code",
   "execution_count": 430,
   "metadata": {
    "collapsed": false
   },
   "outputs": [
    {
     "name": "stdout",
     "output_type": "stream",
     "text": [
      "Overwriting main.py\n"
     ]
    }
   ],
   "source": [
    "%%file main.py\n",
    "from kivy.app import App\n",
    "from kivy.uix.boxlayout import BoxLayout\n",
    "from kivy.uix.gridlayout import GridLayout\n",
    "import bao_engine as Bao\n",
    "from kivy.logger import Logger\n",
    "\n",
    "\n",
    "class Pit(BoxLayout):\n",
    "    def choose_pit(self):\n",
    "        '''Pit was touched. Act on the touch'''\n",
    "        Logger.debug('Pit: Touch on {}'.format(self.pit_obj))\n",
    "\n",
    "\n",
    "class BaoGame(BoxLayout):\n",
    "    def __init__(self, **kwargs):\n",
    "        super(BaoGame, self).__init__(**kwargs)\n",
    "        self.engine = Bao.Game()\n",
    "        self.link_pits()\n",
    "\n",
    "    def link_pits(self):\n",
    "        '''Use the `pit_id` in a Pit object to link it to its associated pit in the bao engine'''\n",
    "        for c in self.board_overlay.children:\n",
    "            if type(c) is Pit:\n",
    "                c.pit_obj = self.engine.pits[c.pit_id]\n",
    "                Logger.debug('Link Pits: linked pit {} to {}'.format(c.pit_id, c.pit_obj))\n",
    "\n",
    "            if type(c) is GridLayout:\n",
    "                for c2 in c.children:\n",
    "                    c2.pit_obj = self.engine.pits[c2.pit_id]\n",
    "                    Logger.debug('Link Pits: linked pit {} to {}'.format(c2.pit_id, c2.pit_obj))\n",
    "\n",
    "class BaoApp(App):\n",
    "    def build(self):\n",
    "        bg = BaoGame()\n",
    "        return bg\n",
    "\n",
    "if __name__ == '__main__':\n",
    "    BaoApp().run()\n"
   ]
  },
  {
   "cell_type": "code",
   "execution_count": 432,
   "metadata": {
    "collapsed": false
   },
   "outputs": [
    {
     "name": "stdout",
     "output_type": "stream",
     "text": [
      "Overwriting bao.kv\n"
     ]
    }
   ],
   "source": [
    "%%file bao.kv\n",
    "#:include debug.kv\n",
    "<BaoGame>:\n",
    "    id: _game\n",
    "    orientation: 'vertical'\n",
    "\n",
    "    canvas.before:\n",
    "        Color:\n",
    "            rgba: 1,1,1,1\n",
    "        Rectangle:\n",
    "            size: self.size\n",
    "            pos: self.pos\n",
    "\n",
    "    board_overlay: _board_overlay\n",
    "    toolbar: _toolbar\n",
    "\n",
    "    BoxLayout:\n",
    "        id: _toolbar\n",
    "        size_hint: 1, 0.1\n",
    "        DebugLabel:\n",
    "            text: 'toolbar'\n",
    "\n",
    "    FloatLayout:\n",
    "        id: _game_area\n",
    "        Image:\n",
    "            id: _game_board\n",
    "            source: 'assets/graphics/bao-board-2-6.png'\n",
    "        BoxLayout:\n",
    "            id: _board_overlay\n",
    "            orientation: 'horizontal'\n",
    "            game_board: _game_board\n",
    "            size_hint: None, None\n",
    "            size: self.game_board.norm_image_size\n",
    "            pos_hint: {'center_x': 0.5, 'center_y': 0.5}\n",
    "            padding: [self.width * 0.01, self.height * 0.18]\n",
    "            spacing: self.width * 0.01\n",
    "            Pit:\n",
    "                padding: [self.parent.parent.width * 0.018, self.parent.parent.height * 0.02]\n",
    "                pit_id: 13\n",
    "                text: str(self.pit_id)\n",
    "\n",
    "            GridLayout:\n",
    "                id: _player_pits\n",
    "                size_hint: 6,1\n",
    "                cols: 6\n",
    "                padding: [self.parent.width * 0.008, self.parent.height * 0.012]\n",
    "                spacing: [self.parent.width * 0.034, self.parent.height * 0.16]\n",
    "                Pit:\n",
    "                    pit_id:12\n",
    "                    text: str(self.pit_id)\n",
    "                Pit:\n",
    "                    pit_id:11\n",
    "                    text: str(self.pit_id)\n",
    "                Pit:\n",
    "                    pit_id:10\n",
    "                    text: str(self.pit_id)\n",
    "                Pit:\n",
    "                    pit_id:9\n",
    "                    text: str(self.pit_id)\n",
    "                Pit:\n",
    "                    pit_id:8\n",
    "                    text: str(self.pit_id)\n",
    "                Pit:\n",
    "                    pit_id:7\n",
    "                    text: str(self.pit_id)\n",
    "                Pit:\n",
    "                    pit_id:0\n",
    "                    text: str(self.pit_id)\n",
    "                Pit:\n",
    "                    pit_id:1\n",
    "                    text: str(self.pit_id)\n",
    "                Pit:\n",
    "                    pit_id:2\n",
    "                    text: str(self.pit_id)\n",
    "                Pit:\n",
    "                    pit_id:3\n",
    "                    text: str(self.pit_id)\n",
    "                Pit:\n",
    "                    pit_id:4\n",
    "                    text: str(self.pit_id)\n",
    "                Pit:\n",
    "                    pit_id:5\n",
    "                    text: str(self.pit_id)\n",
    "            Pit:\n",
    "                padding: [self.parent.parent.width * 0.018, self.parent.parent.height * 0.02]\n",
    "                pit_id:6\n",
    "                text: str(self.pit_id)\n",
    "\n",
    "<Pit>:\n",
    "    id: _pit\n",
    "    text: ''\n",
    "    FloatLayout:\n",
    "        size: self.size\n",
    "        pos: self.pos\n",
    "        DebugLabel:\n",
    "            size: self.parent.size\n",
    "            pos: self.parent.pos\n",
    "            text: root.text\n",
    "            on_release: root.choose_pit()"
   ]
  },
  {
   "cell_type": "markdown",
   "metadata": {},
   "source": [
    "## Starting a new game\n",
    "Let's add a button to start a new game. We will use the default initialization strategy (place one stone in each pit). For this we just need to add a `start_game` attribute to `BaoGame`, and link it to a toolbar button"
   ]
  },
  {
   "cell_type": "code",
   "execution_count": 440,
   "metadata": {
    "collapsed": false
   },
   "outputs": [
    {
     "name": "stdout",
     "output_type": "stream",
     "text": [
      "Overwriting main.py\n"
     ]
    }
   ],
   "source": [
    "%%file main.py\n",
    "from kivy.app import App\n",
    "from kivy.uix.boxlayout import BoxLayout\n",
    "from kivy.uix.gridlayout import GridLayout\n",
    "from kivy.properties import ObjectProperty\n",
    "import bao_engine as Bao\n",
    "from kivy.logger import Logger\n",
    "\n",
    "class Pit(BoxLayout):\n",
    "    def choose_pit(self):\n",
    "        '''Pit was touched. Act on the touch'''\n",
    "        Logger.debug('Pit: Touch on {}'.format(self.pit_obj))\n",
    "\n",
    "\n",
    "class BaoGame(BoxLayout):\n",
    "    stone_locations = ObjectProperty(None)\n",
    "    def __init__(self, **kwargs):\n",
    "        super(BaoGame, self).__init__(**kwargs)\n",
    "        self.engine = Bao.Game()\n",
    "        self.link_pits()\n",
    "\n",
    "    def link_pits(self):\n",
    "        for c in self.board_overlay.children:\n",
    "            if type(c) is Pit:\n",
    "                c.pit_obj = self.engine.pits[c.pit_id]\n",
    "                Logger.debug('Link Pits: linked pit {} to {}'.format(c.pit_id, c.pit_obj))\n",
    "\n",
    "            if type(c) is GridLayout:\n",
    "                for c2 in c.children:\n",
    "                    c2.pit_obj = self.engine.pits[c2.pit_id]\n",
    "                    Logger.debug('Link Pits: linked pit {} to {}'.format(c2.pit_id, c2.pit_obj))\n",
    " \n",
    "    def on_stone_locations(self, inst, value):\n",
    "        '''Update the stones by animating them to their final location'''\n",
    "        for stone in value:\n",
    "            Logger.debug(\"Bao: stone_loc: {}\".format(stone))\n",
    "            \n",
    "\n",
    "    def start_game(self):\n",
    "        '''Do the initial sow (place) to start a game'''\n",
    "        self.engine.initial_place()\n",
    "        self.toolbar.start_button.disabled = True\n",
    "        self.stone_locations = self.engine.stones\n",
    "\n",
    "class BaoApp(App):\n",
    "    def build(self):\n",
    "        bg = BaoGame()\n",
    "        return bg\n",
    "\n",
    "if __name__ == '__main__':\n",
    "    BaoApp().run()\n"
   ]
  },
  {
   "cell_type": "code",
   "execution_count": null,
   "metadata": {
    "collapsed": true
   },
   "outputs": [],
   "source": [
    "%%file bao.kv\n",
    "#:include debug.kv\n",
    "<BaoGame>:\n",
    "    id: _game\n",
    "    orientation: 'vertical'\n",
    "\n",
    "    canvas.before:\n",
    "        Color:\n",
    "            rgba: 1,1,1,1\n",
    "        Rectangle:\n",
    "            size: self.size\n",
    "            pos: self.pos\n",
    "\n",
    "    board_overlay: _board_overlay\n",
    "    toolbar: _toolbar\n",
    "\n",
    "    BoxLayout:\n",
    "        id: _toolbar\n",
    "        start_button: _start_button\n",
    "        size_hint: 1, 0.1\n",
    "        Button:\n",
    "            id: _start_button\n",
    "            text: 'Start Game'\n",
    "            on_release: root.start_game()\n",
    "\n",
    "    FloatLayout:\n",
    "        id: _game_area\n",
    "        Image:\n",
    "            id: _game_board\n",
    "            source: 'assets/graphics/bao-board-2-6.png'\n",
    "        BoxLayout:\n",
    "            id: _board_overlay\n",
    "            orientation: 'horizontal'\n",
    "            game_board: _game_board\n",
    "            size_hint: None, None\n",
    "            size: self.game_board.norm_image_size\n",
    "            pos_hint: {'center_x': 0.5, 'center_y': 0.5}\n",
    "            padding: [self.width * 0.01, self.height * 0.18]\n",
    "            spacing: self.width * 0.01\n",
    "            Pit:\n",
    "                padding: [self.parent.parent.width * 0.018, self.parent.parent.height * 0.02]\n",
    "                pit_id: 13\n",
    "                text: str(self.pit_id)\n",
    "\n",
    "            GridLayout:\n",
    "                id: _player_pits\n",
    "                size_hint: 6,1\n",
    "                cols: 6\n",
    "                padding: [self.parent.width * 0.008, self.parent.height * 0.012]\n",
    "                spacing: [self.parent.width * 0.034, self.parent.height * 0.16]\n",
    "                Pit:\n",
    "                    pit_id:12\n",
    "                    text: str(self.pit_id)\n",
    "                Pit:\n",
    "                    pit_id:11\n",
    "                    text: str(self.pit_id)\n",
    "                Pit:\n",
    "                    pit_id:10\n",
    "                    text: str(self.pit_id)\n",
    "                Pit:\n",
    "                    pit_id:9\n",
    "                    text: str(self.pit_id)\n",
    "                Pit:\n",
    "                    pit_id:8\n",
    "                    text: str(self.pit_id)\n",
    "                Pit:\n",
    "                    pit_id:7\n",
    "                    text: str(self.pit_id)\n",
    "                Pit:\n",
    "                    pit_id:0\n",
    "                    text: str(self.pit_id)\n",
    "                Pit:\n",
    "                    pit_id:1\n",
    "                    text: str(self.pit_id)\n",
    "                Pit:\n",
    "                    pit_id:2\n",
    "                    text: str(self.pit_id)\n",
    "                Pit:\n",
    "                    pit_id:3\n",
    "                    text: str(self.pit_id)\n",
    "                Pit:\n",
    "                    pit_id:4\n",
    "                    text: str(self.pit_id)\n",
    "                Pit:\n",
    "                    pit_id:5\n",
    "                    text: str(self.pit_id)\n",
    "            Pit:\n",
    "                padding: [self.parent.parent.width * 0.018, self.parent.parent.height * 0.02]\n",
    "                pit_id:6\n",
    "                text: str(self.pit_id)\n",
    "\n",
    "<Pit>:\n",
    "    id: _pit\n",
    "    text: ''\n",
    "    FloatLayout:\n",
    "        size: self.size\n",
    "        pos: self.pos\n",
    "        DebugLabel:\n",
    "            size: self.parent.size\n",
    "            pos: self.parent.pos\n",
    "            text: root.text\n",
    "            on_release: root.choose_pit()"
   ]
  },
  {
   "cell_type": "code",
   "execution_count": null,
   "metadata": {
    "collapsed": true
   },
   "outputs": [],
   "source": []
  },
  {
   "cell_type": "markdown",
   "metadata": {},
   "source": [
    "## Placing stones in a pit\n",
    "\n",
    "We will start by being able to add a stone to a pit, at its centre. We already have a stone_locations property, so when this changes, we can animate each of the stones from their initial location to the new one.\n",
    "\n",
    "Of course, they have to start somewhere. Let's start by placing half in each of the target pits"
   ]
  },
  {
   "cell_type": "code",
   "execution_count": 4,
   "metadata": {
    "collapsed": false
   },
   "outputs": [
    {
     "name": "stdout",
     "output_type": "stream",
     "text": [
      "Overwriting main.py\n"
     ]
    }
   ],
   "source": [
    "%%file main.py\n",
    "from kivy.app import App\n",
    "from kivy.uix.boxlayout import BoxLayout\n",
    "from kivy.uix.gridlayout import GridLayout\n",
    "from kivy.properties import ObjectProperty\n",
    "import bao_engine as Bao\n",
    "from kivy.logger import Logger\n",
    "from stones import Stone\n",
    "\n",
    "class Pit(BoxLayout):\n",
    "    def choose_pit(self):\n",
    "        '''Pit was touched. Act on the touch'''\n",
    "        Logger.debug('Pit: Touch on {}'.format(self.pit_obj))\n",
    "\n",
    "\n",
    "class BaoGame(BoxLayout):\n",
    "    stone_locations = ObjectProperty(None)\n",
    "    def __init__(self, **kwargs):\n",
    "        super(BaoGame, self).__init__(**kwargs)\n",
    "        self.engine = Bao.Game()\n",
    "        self.link_pits()\n",
    "        self.init_stones()\n",
    "\n",
    "    def init_stones(self):\n",
    "        '''put the stones somewhere. Initially, half in one target, half in the other'''\n",
    "        for stone in self.engine.stones:\n",
    "            self.engine.pits[self.engine.targets[stone.id%2 + 1]].add(stone)\n",
    "            w = \n",
    "                \n",
    "    def link_pits(self):\n",
    "        for c in self.board_overlay.children:\n",
    "            if type(c) is Pit:\n",
    "                c.pit_obj = self.engine.pits[c.pit_id]\n",
    "                Logger.debug('Link Pits: linked pit {} to {}'.format(c.pit_id, c.pit_obj))\n",
    "\n",
    "            if type(c) is GridLayout:\n",
    "                for c2 in c.children:\n",
    "                    c2.pit_obj = self.engine.pits[c2.pit_id]\n",
    "                    Logger.debug('Link Pits: linked pit {} to {}'.format(c2.pit_id, c2.pit_obj))\n",
    " \n",
    "    def on_stone_locations(self, inst, value):\n",
    "        '''Update the stones by animating them to their final location'''\n",
    "        for stone in value:\n",
    "            Logger.debug(\"Bao: stone_loc: {}\".format(stone))\n",
    "            \n",
    "\n",
    "    def start_game(self):\n",
    "        '''Do the initial sow (place) to start a game'''\n",
    "        self.engine.initial_place()\n",
    "        self.toolbar.start_button.disabled = True\n",
    "        self.stone_locations = self.engine.stones[:]\n",
    "\n",
    "class BaoApp(App):\n",
    "    def build(self):\n",
    "        bg = BaoGame()\n",
    "        return bg\n",
    "\n",
    "if __name__ == '__main__':\n",
    "    BaoApp().run()"
   ]
  },
  {
   "cell_type": "code",
   "execution_count": null,
   "metadata": {
    "collapsed": true
   },
   "outputs": [],
   "source": []
  },
  {
   "cell_type": "code",
   "execution_count": null,
   "metadata": {
    "collapsed": true
   },
   "outputs": [],
   "source": []
  },
  {
   "cell_type": "code",
   "execution_count": null,
   "metadata": {
    "collapsed": true
   },
   "outputs": [],
   "source": []
  },
  {
   "cell_type": "markdown",
   "metadata": {},
   "source": [
    "imagine we divide each pit up into a number of locations. We need to be able to place a stone at arbitrary locations in each pit. pick a row/column location (say, dividing each player pit into 16, numbered *left-to-right*, then *top-to-bottom* (**lr, tb**). \n"
   ]
  },
  {
   "cell_type": "markdown",
   "metadata": {},
   "source": [
    "## Placing stones\n",
    "We want to be able to place and color stones on the board. "
   ]
  },
  {
   "cell_type": "code",
   "execution_count": 380,
   "metadata": {
    "collapsed": false
   },
   "outputs": [
    {
     "name": "stdout",
     "output_type": "stream",
     "text": [
      "Overwriting bao.kv\n"
     ]
    }
   ],
   "source": []
  },
  {
   "cell_type": "code",
   "execution_count": null,
   "metadata": {
    "collapsed": false
   },
   "outputs": [],
   "source": [
    "%%file stones.kv\n",
    "\n",
    "<Stone@Image>:\n",
    "    source: 'assets/graphics/stone.png'\n",
    "    pos: self.parent.pos\n",
    "    size: self.parent.size\n",
    "    color: 1,1,1,1"
   ]
  },
  {
   "cell_type": "markdown",
   "metadata": {},
   "source": [
    "(We should put this in the main bao.kv however."
   ]
  },
  {
   "cell_type": "code",
   "execution_count": null,
   "metadata": {
    "collapsed": true
   },
   "outputs": [],
   "source": []
  },
  {
   "cell_type": "markdown",
   "metadata": {},
   "source": [
    "## Interfacing with a bao engine\n",
    "Now comes the fun part. How do we connect this with a game engine?\n",
    "Let's take a simple bao engine, written without a UI. Let's imagine how interaction with the game should work.\n",
    "\n",
    "If you are interested in knowing the rules to bao (and in particular, the variant we implemented, [Kalah](https://en.wikipedia.org/wiki/Kalah)), see the pages on [Mancala](https://en.wikipedia.org/wiki/Mancala) games.\n",
    "\n",
    "Our basic game loop will go something like this:\n",
    "* If the game is over, a message is displayed and the game mode changes. If not:\n",
    "* User clicks on a pit. If valid move, stones are picked up and sowed\n",
    "* Stones are animated to their destination. This means we need the list of `stones` and `locations` after every move\n",
    "* Captures may happen. Captured stones are animated to their destination. Scores are updated\n",
    "* The player may go again (if the turn ended in a target pit), or the active user may change. Either way, the process repeats again.\n",
    "\n",
    "Here's a basic bao engine"
   ]
  },
  {
   "cell_type": "code",
   "execution_count": null,
   "metadata": {
    "collapsed": true
   },
   "outputs": [],
   "source": [
    "%%file bao_engine.py\n",
    "# file: bao_engine.py\n",
    "# copyright: Copyright (C) 2016 Kjell Wooding\n",
    "# license:  MIT. See LICENSE for complete license text\n",
    "\n",
    "from __future__ import print_function\n",
    "from random import choice\n",
    "from math import ceil\n",
    "from itertools import cycle\n",
    "from operator import sub\n",
    "import json\n",
    "\n",
    "\n",
    "class Pit():\n",
    "    '''Represent a pit in a mankala (bao) style game.\n",
    "    We assume locations are a grid overlaying the circular pit,\n",
    "    so we flag some locations as unusable (the corners) by placing an 'X' there.\n",
    "    All other locations receive a list of stones'''\n",
    "\n",
    "    def __init__(self, id=-1, n=4, player=1, n_target_pos=48, target=False):\n",
    "        '''Create a bao pit.\n",
    "        There should be an even number of pits.\n",
    "        Pits should be numbered sequentially.\n",
    "        Each pit belongs to a particular player (below half = player 1. Above = player 2)\n",
    "        Each player has one pit called a `target`\n",
    "        Non-target pits consist of an nxn grid of positions\n",
    "        Target pits consist of n_target_pos positions.\n",
    "        '''\n",
    "        self.id = id\n",
    "        if target:\n",
    "            self.cols = n\n",
    "            self.rows = int(ceil(n_target_pos / float(n)))\n",
    "        else:\n",
    "            self.rows = n\n",
    "            self.cols = n\n",
    "        self.loc = []\n",
    "        for j in range(self.rows * self.cols):\n",
    "            self.loc.append(list())\n",
    "        self.loc[0] = 'X'\n",
    "        self.loc[n-1] = 'X'\n",
    "        self.loc[-1] = 'X'\n",
    "        self.loc[-n] = 'X'\n",
    "        self.target = target\n",
    "        self.player = player\n",
    "\n",
    "    def __repr__(self):\n",
    "        return '{}: {} {}'.format(self.id, self.count_stones(), ('(T)' if self.target else ''))\n",
    "\n",
    "    def pretty_print(self):\n",
    "        '''pretty-print a pit.\n",
    "        dots indicate empty locations.\n",
    "        numbers indicate the number of stones at that position.'''\n",
    "        s = ''\n",
    "        for x in range(self.rows):\n",
    "            for y in range(self.cols):\n",
    "                p = self.loc[self.cols*x+y]\n",
    "                if p == \"X\":\n",
    "                    s += ' '\n",
    "                elif len(p) > 0:\n",
    "                    s += str(len(p))\n",
    "                else:\n",
    "                    s += '.'\n",
    "            s += '\\n'\n",
    "        s +='{}: p{} {}'.format(self.id, self.player, ('(T)' if self.target else ''))\n",
    "        print(s + '\\n')\n",
    "\n",
    "    def free_locations(self, reuse=False):\n",
    "        '''return a list of all empty locations in this pit.\n",
    "        Useful in conjunction with `random.choice()`\n",
    "        if `reuse == True`, then a list of all non-'X' pits is returned\n",
    "        '''\n",
    "        ret = []\n",
    "        for (i, contents) in enumerate(self.loc):\n",
    "            if reuse == True and (contents != 'X' or len(contents) == 0):\n",
    "                ret += [i]\n",
    "            elif reuse == False and len(contents) == 0:\n",
    "                ret += [i]\n",
    "        return ret\n",
    "\n",
    "    def add(self, stone, debug=False):\n",
    "        '''Add the supplied stone to this pit.\n",
    "        Stone should be currently unallocated. Add will fail (return False) if stone is already positioned somewhere '''\n",
    "        if stone.pit is not None:\n",
    "            raise RuntimeError, \"Tried to add stone to pit {} that is already placed in pit {}\".format(self.id, stone.pit)\n",
    "            return False\n",
    "\n",
    "        free = self.free_locations()\n",
    "        if (len(free)):\n",
    "            loc = choice(free)\n",
    "        else:\n",
    "            # no locations free\n",
    "            free = self.free_locations(reuse=True)\n",
    "            loc = choice(free)\n",
    "\n",
    "        stone.position = loc\n",
    "        stone.pit = self.id\n",
    "        self.loc[loc].append(stone)\n",
    "        return True\n",
    "\n",
    "    def pickup_stones(self, debug=False):\n",
    "        '''pick-up all stones in this pit (i.e. their location becomes None'''\n",
    "        for i, stone_l in enumerate(self.loc):\n",
    "            stones = stone_l[:] # make a copy: we need to mutate the list\n",
    "            if (stones != 'X') and (len(stones) > 0):\n",
    "                for stone in stones:\n",
    "                    if (stone.pit != self.id):\n",
    "                        raise RuntimeError, 'Stone {} has pit_id {}, but being removed from {}'.format(stone.id, stone.pit, self.id)\n",
    "                    if debug:\n",
    "                        print('Removing stone {} from pit {}, loc {}'.format(stone.id, self.id, stone.position))\n",
    "                    stone.pit = None\n",
    "                    stone.position = None\n",
    "                    self.loc[i].remove(stone)\n",
    "\n",
    "    def count_stones(self, debug=False):\n",
    "        '''count the number of stones in a pit'''\n",
    "        c = 0\n",
    "        for i,stones in enumerate(self.loc):\n",
    "            if debug:\n",
    "                print('{}:{} '.format(i,stones),end='')\n",
    "            if (stones != 'X') and (len(stones) > 0):\n",
    "                c = c + len(stones)\n",
    "        if debug:\n",
    "            print()\n",
    "        return c\n",
    "\n",
    "\n",
    "class Stone():\n",
    "    '''Object representing a stone (marker, or seed) in a game of bao'''\n",
    "    def __init__(self, color=None, id=-1):\n",
    "        '''Create a bao stone.\n",
    "        * A stone has a `pit` (None, or pit id) if it has been placed, and if a pit_id has been assigned,\n",
    "        it has a `position` in that pit.\n",
    "        * A stone has an id indicating its position in the stones array\n",
    "        * A stone has a color (tint). Sometimes we color starting stones by player,\n",
    "          though it makes no difference to gameplay.'''\n",
    "        if color == None:\n",
    "            color = '#6666af'\n",
    "        self.pit = None\n",
    "        self.position = None\n",
    "        self.id = id\n",
    "        self.color = color\n",
    "\n",
    "    def __repr__(self):\n",
    "        return '(id={}, pit={}, pos={}, color={})'.format(self.id, self.pit, self.position, self.color)\n",
    "\n",
    "class Game():\n",
    "    def __init__(self, n_stones=36, n_pits=6, n_rows=1):\n",
    "        '''Create a bao game.\n",
    "        * `n_pits` is the number of (non-target) pits per player\n",
    "        * `n_rows` is the rows of pits per player (not currently used)\n",
    "        * `n_stones` is the number of stones (seeds) that the game starts with'''\n",
    "        self.game_over = True\n",
    "        self.n_rows = n_rows\n",
    "        self.n_pits = n_pits\n",
    "        self.stones = [Stone(id=i) for i in range(n_stones)]\n",
    "        self.pits = [Pit(target=(i%(n_pits+1) == n_pits),\n",
    "                      player=(1 if i <= n_pits else 2),\n",
    "                      id=i) for i in range(2*n_pits + 2)]\n",
    "        self.targets = {}\n",
    "\n",
    "        # State variables for moving, capturing\n",
    "        self.captures_done = True\n",
    "        self.last_pit = None\n",
    "\n",
    "        #self.get_player = self.toggle_player()\n",
    "        self.get_player = cycle([1,2])\n",
    "        self.current_player = self.get_player.next()\n",
    "        # remember player targets\n",
    "        for p in self.pits:\n",
    "            if p.target:\n",
    "                self.targets[p.player] = p.id\n",
    "\n",
    "    def __repr__(self):\n",
    "        '''Text representation of the game board'''\n",
    "        s = '\\t\\t'\n",
    "        for i in range(self.n_pits + 1):\n",
    "            s += str(self.pits[i]) + '\\t'\n",
    "        s += '\\n'\n",
    "        for i in range(2 * self.n_pits + 1, self.n_pits, -1):\n",
    "            s += str(self.pits[i]) + '\\t'\n",
    "        return s + '\\nNext: Player {} \\tGame State: {}\\t Captures done:{}\\t Last_pit: {}\\n'.format(self.current_player, 'Game Over' if self.game_over else 'Playing', self.captures_done, self.last_pit)\n",
    "\n",
    "    @property\n",
    "    def score(self):\n",
    "        '''returns a list containing the current score [p1_score, p2_score]'''\n",
    "        scores = []\n",
    "        for player in [1,2]:\n",
    "            scores.append(self.pits[self.targets[player]].count_stones())\n",
    "        return scores\n",
    "\n",
    "    @property\n",
    "    def n_stones(self):\n",
    "        return len(self.stones)\n",
    "\n",
    "    def initial_place(self, debug=False, direction='ccw'):\n",
    "        '''Do the initial placement (sowing) of stones.\n",
    "        This can only be done if the current game is over.\n",
    "        Place one in each non-target pit until all stones have been placed.\n",
    "        * `direction` is currently unused. If game is already initialized,\n",
    "        do nothing.'''\n",
    "\n",
    "        if self.game_over == False:\n",
    "            return\n",
    "\n",
    "        # pick everything up\n",
    "        for p in self.pits:\n",
    "            p.pickup_stones()\n",
    "\n",
    "        unplaced = (stone for stone in self.stones if stone.pit is None)\n",
    "        p = 0\n",
    "        try:\n",
    "            while True:\n",
    "                stone = unplaced.next()\n",
    "                if self.pits[p].target == True:\n",
    "                    p = (p + 1) % len(self.pits)\n",
    "                if debug:\n",
    "                    print('Placing stone {} in pit {}'.format(stone.id, self.pits[p].id))\n",
    "                self.pits[p].add(stone)\n",
    "                stone.color = '#6666af' if self.pits[p].player == 1 else '#75755e'\n",
    "                p = (p + 1) % len(self.pits)\n",
    "        except StopIteration:\n",
    "            pass\n",
    "        self.game_over = False\n",
    "\n",
    "    def is_player_target(self, pit_id):\n",
    "        '''return True if the supplied `pid_id` is the current player's target pit'''\n",
    "        if self.pits[pit_id].target and self.pits[pit_id].player == self.current_player:\n",
    "            return True\n",
    "        return False\n",
    "\n",
    "    def is_opponent_target(self, pit_id):\n",
    "        '''return True if the supplied `pid_id` is the opponent's (i.e. *not* the current player's) target pit'''\n",
    "        if self.pits[pit_id].target and self.pits[pit_id].player != self.current_player:\n",
    "            return True\n",
    "        return False\n",
    "\n",
    "    def toggle_player(self):\n",
    "        '''alternate between players'''\n",
    "        while True:\n",
    "            yield 1\n",
    "            yield 2\n",
    "\n",
    "    def random_move(self):\n",
    "        '''choose a (valid) random move for the active player'''\n",
    "        pits_remaining = [p for p in self.pits if p.player == self.current_player and p.target != True and p.count_stones()]\n",
    "        move = choice(pits_remaining)\n",
    "        return move.id\n",
    "\n",
    "    def perform_captures(self):\n",
    "        '''Perform captures. Can only be done after a sow.\n",
    "        In this case, `captures_done` will be True, and\n",
    "        `last_pit` will indicate where the final sown stone ended.\n",
    "        '''\n",
    "        if self.captures_done == True:\n",
    "            if self.last_pit is None:\n",
    "                return # nothing to do\n",
    "            else:\n",
    "                raise RuntimeError, 'last_pit is set but captures done'\n",
    "\n",
    "        if self.last_pit is None:\n",
    "                raise RuntimeError, 'captures needed, but last_pit not set'\n",
    "\n",
    "        if self.pits[self.last_pit].player == self.current_player: # my pit\n",
    "            if self.pits[self.last_pit].count_stones() == 1: # potential capture\n",
    "\n",
    "                # Compute the pit opposite me. Note: pits always add to 2 * n_pits. e.g.\n",
    "                #        0  1  2  3  4  5  6  7(T)\n",
    "                # 13(T) 12 11 10  9  8  7  6\n",
    "                #       --------------------\n",
    "                #       12 12 12 12 12 12 12\n",
    "\n",
    "                opp_p = (len(self.pits) - 2) - self.last_pit\n",
    "                if self.pits[opp_p].count_stones():\n",
    "                    # capture occurs\n",
    "                    self.pits[opp_p].pickup_stones()\n",
    "                    self.pits[self.last_pit].pickup_stones()\n",
    "\n",
    "                    captured = (stone for stone in self.stones if stone.pit is None)\n",
    "                    try:\n",
    "                        while True:\n",
    "                            stone = captured.next()\n",
    "                            self.pits[self.targets[self.current_player]].add(stone)\n",
    "                    except StopIteration:\n",
    "                        pass\n",
    "\n",
    "        self.captures_done = True\n",
    "\n",
    "    def moves_available(self):\n",
    "        '''Return True if there are stones in non-target pits for the current player'''\n",
    "        left = [p.count_stones() for p in self.pits if p.player == self.current_player and p.target != True]\n",
    "        return (sum(left) > 0)\n",
    "\n",
    "\n",
    "    def handle_endgame(self):\n",
    "        '''Check if there are any valid moves for the current player.\n",
    "        If not, move opponent's stones to their target pit and declare the game over\n",
    "        '''\n",
    "        if (self.moves_available()):\n",
    "            return\n",
    "\n",
    "        self.current_player = self.get_player.next()\n",
    "\n",
    "        pits_remaining = [p for p in self.pits if p.player == self.current_player and p.target != True and p.count_stones()]\n",
    "        for p in pits_remaining:\n",
    "            p.pickup_stones()\n",
    "        endgame_captures = (stone for stone in self.stones if stone.pit is None)\n",
    "        try:\n",
    "            while True:\n",
    "                stone = endgame_captures.next()\n",
    "                self.pits[self.targets[self.current_player]].add(stone)\n",
    "        except StopIteration:\n",
    "            pass\n",
    "\n",
    "        self.game_over = True\n",
    "\n",
    "    def update_player(self, debug=False):\n",
    "        if debug:\n",
    "            print('Current player: {}'.format(self.current_player))\n",
    "        if self.last_pit is None:\n",
    "            raise RuntimeError, 'update_player called and last_pit is None'\n",
    "        if not self.is_player_target(self.last_pit):\n",
    "            self.current_player = self.get_player.next()\n",
    "        if debug:\n",
    "            print('Toggle player? {}'.format(not self.is_player_target(self.last_pit)))\n",
    "            print('New player? {}'.format(self.current_player))\n",
    "        self.last_pit = None\n",
    "\n",
    "\n",
    "    def sow(self, pit_id, direction='ccw', debug=False):\n",
    "        '''Current player picks up the seeds in pit `pit_id`,\n",
    "        sowing in the direction specified by `direction`\n",
    "        * Note: `direction` is not currently used\n",
    "        '''\n",
    "        if self.current_player != self.pits[pit_id].player:\n",
    "            print(\"Not Your Turn!\")\n",
    "            return False\n",
    "        if self.pits[pit_id].count_stones() == 0:\n",
    "            print(\"No stones here\")\n",
    "            return False\n",
    "        if self.pits[pit_id].target:\n",
    "            print(\"can't sow a target\")\n",
    "            return False\n",
    "        if self.captures_done == False:\n",
    "            print(\"Can't re-sow without first performing captures\")\n",
    "            return False\n",
    "\n",
    "        self.captures_done = False\n",
    "        self.next_player = None\n",
    "\n",
    "        # Perform the sowing\n",
    "        self.pits[pit_id].pickup_stones()\n",
    "        unplaced = (stone for stone in self.stones if stone.pit is None)\n",
    "        p = (pit_id + 1) % len(self.pits)\n",
    "        try:\n",
    "            while True:\n",
    "                stone = unplaced.next()\n",
    "                if self.is_opponent_target(p):\n",
    "                    p = (p + 1) % len(self.pits)\n",
    "                if debug:\n",
    "                    print('Sowing stone {} in pit {}'.format(stone.id, self.pits[p].id))\n",
    "                self.pits[p].add(stone)\n",
    "                last_p = p\n",
    "                p = (p + 1) % len(self.pits)\n",
    "        except StopIteration:\n",
    "            pass\n",
    "\n",
    "        self.last_pit = last_p\n",
    "\n",
    "        return True\n",
    "\n",
    "    def play_round(self, pit_no, direction='ccw', debug=False):\n",
    "        '''Play a round of bao. Sow, starting at `pit_no`\n",
    "        * `direction` is currently ignored.\n",
    "        If the indicated move is invalid, return None.\n",
    "        Otherwise, return the game status, current player, and stones list.\n",
    "        '''\n",
    "        success = self.sow(pit_no, direction, debug)\n",
    "\n",
    "        if not success: # not a valid move\n",
    "            return None\n",
    "\n",
    "        self.perform_captures()\n",
    "\n",
    "        self.update_player()\n",
    "\n",
    "        self.handle_endgame()\n",
    "\n",
    "        return (self.game_over, self.current_player, self.stones)\n",
    "\n",
    "\n",
    "\n",
    "def random_game(bg=None, debug=False):\n",
    "    '''Play a game of bao to completion by choosing (valid) moves at random.\n",
    "    If `bao` is passed, the game will be played at random from the supplied position.\n",
    "    `debug = True` makes for more verbose output (e.g. prints the board after each move)\n",
    "    '''\n",
    "    move_list = []\n",
    "    if bg is None:\n",
    "        bg=Game()\n",
    "        bg.initial_place()\n",
    "    if debug:\n",
    "        print(bg)\n",
    "    player = bg.current_player\n",
    "    mno = 1\n",
    "    move = bg.random_move()\n",
    "    move_list += [move]\n",
    "    if debug:\n",
    "        print ('Move {}: Player {} sows {}'.format(mno, player, move))\n",
    "    (done, player, stones) = bg.play_round(move)\n",
    "    while not done:\n",
    "        if debug:\n",
    "            print(bg)\n",
    "        move = bg.random_move()\n",
    "        move_list += [move]\n",
    "        mno = mno + 1\n",
    "        if debug:\n",
    "            print ('Move {}: Player {} sows {}'.format(mno, player, move))\n",
    "        try:\n",
    "            (done, player, stones) = bg.play_round(move)\n",
    "        except:\n",
    "            raise RuntimeError, \"Error on game: {}\".format(move_list)\n",
    "\n",
    "    if debug:\n",
    "        print(bg)\n",
    "        print('Final score:')\n",
    "    scores = []\n",
    "    for player in [1,2]:\n",
    "        pscore = bg.pits[bg.targets[player]].count_stones()\n",
    "        if debug:\n",
    "            print(\"Player {}: {}\".format(player, pscore))\n",
    "        scores.append(pscore)\n",
    "    bg.move_list = move_list\n",
    "    return (bg, scores)\n",
    "\n",
    "\n",
    "def check_game(bao_game, scores):\n",
    "    '''Run consistency checks on a game.\n",
    "    Raise exceptions on any issues.'''\n",
    "    if bao_game.game_over:\n",
    "        # End of game checks\n",
    "\n",
    "        # score should add to number of stones\n",
    "        if sum(scores) != len(bao_game.stones):\n",
    "            raise RuntimeError, \"Final score {} doesn't sum to {}\".format(scores, len(bao_game.stones))\n",
    "\n",
    "\n",
    "def play_game(move_list, debug=False):\n",
    "    '''Play a new game of bao with the specified move list.\n",
    "    Returns the bao game, and the score after all moves are completed.\n",
    "    '''\n",
    "    bg = Game()\n",
    "    bg.initial_place()\n",
    "    mno = 1\n",
    "    for move in move_list:\n",
    "        if debug:\n",
    "            print('Player {} sows {}'.format(bg.current_player, move))\n",
    "        bg.play_round(move)\n",
    "        if debug:\n",
    "            print(bg)\n",
    "\n",
    "    scores = []\n",
    "    for player in [1,2]:\n",
    "        pscore = bg.pits[bg.targets[player]].count_stones()\n",
    "        if debug:\n",
    "            print(\"Player {}: {}\".format(player, pscore))\n",
    "        scores.append(pscore)\n",
    "    return (bg, scores)\n",
    "\n",
    "def generate_test_vectors(self, n=50, filename='test_vectors.json'):\n",
    "    test_vectors = []\n",
    "    for i in range(n):\n",
    "        bg = bao.bao_game()\n",
    "        bg.initial_place()\n",
    "        bao.random_game(bg=bg)\n",
    "        test_vectors.append((bg.move_list, bg.score))\n",
    "\n",
    "    with open(filename, 'w') as fp:\n",
    "        json.dump(test_vectors, fp)\n",
    "\n",
    "\n",
    "def verify_test_vectors(self, filename='test_vectors.json'):\n",
    "    '''evaluate test vectors, consisting of tuples:\n",
    "       [move list], [p1_score, p2_score]\n",
    "    Basically, run the supplied moves, and ensure the new score matches the old\n",
    "    '''\n",
    "    with open('test_vectors.json', 'r') as fr:\n",
    "        tv = json.load(fr)\n",
    "        for (ml, score) in tv:\n",
    "            b,s = play_game(ml)\n",
    "            if sum(tuple(map(sub, score, s))) != 0:\n",
    "                raise RuntimeError, 'New score {} != {}. for test moves {}'.format(s, score, ml)\n",
    "\n",
    "\n",
    "if __name__ == '__main__':\n",
    "\n",
    "    # Known Test cases\n",
    "    tests = []\n",
    "    tests.append((\"All positions full error\", [1, 9, 2, 0, 7, 3, 11, 0, 10, 1, 11, 4, 7, 5, 11, 8, 0, 7, 3, 11, 2, 5, 4, 9, 1, 11]))\n",
    "    tests.append((\"Game ends with all positions full in a pit\", [2, 9, 0, 12, 0, 11, 0, 7, 2, 12, 9, 5, 9, 4, 7, 5, 1, 9, 2, 10, 0, 7, 2, 12, 4, 0, 11, 8, 2, 10, 1, 9, 4, 11, 12, 1]))\n",
    "    tests.append((\"Game ends leaving pieces on the board\", [4, 9, 2, 7, 1, 12, 3, 10, 5, 12, 10, 2, 8, 1, 12, 7, 2, 8, 4, 10, 0, 3, 7, 1, 9, 0, 10, 4, 1, 12, 8, 3, 9, 4, 10, 5, 9]))\n",
    "\n",
    "    for tc in tests:\n",
    "        bg, scores = play_game(tc[1])\n",
    "        check_game(bg, scores)\n",
    "\n",
    "    # Random Games\n",
    "\n",
    "    for gno in range(100):\n",
    "        bg, score = random_game()\n",
    "        check_game(bg, score)\n",
    "\n",
    "    # test pickup_stones bug (not all stones were picked up) by re-adding everything a 2nd time\n",
    "\n",
    "    p = Pit(id=1)\n",
    "    ss = [Stone(id=i) for i in range(16)]\n",
    "    for s in ss:\n",
    "        p.add(s)\n",
    "    p.pickup_stones()\n",
    "    for s in ss:\n",
    "        p.add(s)\n",
    "    p.pickup_stones()\n",
    "    left = p.count_stones()\n",
    "    if left:\n",
    "        print(\"Should be no stones left. Found {}\".format(left))\n",
    "        p.pretty_print()\n",
    "        print([s for s in ss if s.pit is not None])\n",
    "\n",
    "    # known test vectors\n",
    "    import json\n",
    "    from kivy.vector import Vector\n",
    "    with open('testvectors.json', 'r') as fr:\n",
    "        tv = json.load(fr)\n",
    "        for (ml, score) in tv:\n",
    "            b,s = play_game(ml)\n",
    "            if sum(Vector(score) - s) != 0:\n",
    "                raise RuntimeError, 'New score {} != {}. for test moves {}'.format(s, score, ml)\n"
   ]
  },
  {
   "cell_type": "markdown",
   "metadata": {},
   "source": [
    "Now, let's see some of the properties we have available to us:"
   ]
  },
  {
   "cell_type": "code",
   "execution_count": 347,
   "metadata": {
    "collapsed": false
   },
   "outputs": [],
   "source": [
    "# import the game engine\n",
    "import bao_engine as bao\n",
    "bao = reload(bao) # python3: use importlib.reload()"
   ]
  },
  {
   "cell_type": "code",
   "execution_count": 348,
   "metadata": {
    "collapsed": false
   },
   "outputs": [],
   "source": [
    "#create a new game\n",
    "bg = bao.bao_game()"
   ]
  },
  {
   "cell_type": "code",
   "execution_count": 349,
   "metadata": {
    "collapsed": false
   },
   "outputs": [
    {
     "data": {
      "text/plain": [
       "False"
      ]
     },
     "execution_count": 349,
     "metadata": {},
     "output_type": "execute_result"
    }
   ],
   "source": [
    "# is the game over?\n",
    "bg.game_over"
   ]
  },
  {
   "cell_type": "code",
   "execution_count": 350,
   "metadata": {
    "collapsed": false
   },
   "outputs": [
    {
     "data": {
      "text/plain": [
       "1"
      ]
     },
     "execution_count": 350,
     "metadata": {},
     "output_type": "execute_result"
    }
   ],
   "source": [
    "# players are numbered 1 and 2\n",
    "bg.current_player"
   ]
  },
  {
   "cell_type": "code",
   "execution_count": 351,
   "metadata": {
    "collapsed": false
   },
   "outputs": [
    {
     "data": {
      "text/plain": [
       "[0, 0]"
      ]
     },
     "execution_count": 351,
     "metadata": {},
     "output_type": "execute_result"
    }
   ],
   "source": [
    "# score = # stones in each player's target pit\n",
    "bg.score"
   ]
  },
  {
   "cell_type": "code",
   "execution_count": 352,
   "metadata": {
    "collapsed": false
   },
   "outputs": [
    {
     "data": {
      "text/plain": [
       "36"
      ]
     },
     "execution_count": 352,
     "metadata": {},
     "output_type": "execute_result"
    }
   ],
   "source": [
    "# number of stones total\n",
    "bg.n_stones"
   ]
  },
  {
   "cell_type": "code",
   "execution_count": 353,
   "metadata": {
    "collapsed": false
   },
   "outputs": [
    {
     "data": {
      "text/plain": [
       "[(id=0, pit=None, pos=None, color=#6666af),\n",
       " (id=1, pit=None, pos=None, color=#6666af),\n",
       " (id=2, pit=None, pos=None, color=#6666af),\n",
       " (id=3, pit=None, pos=None, color=#6666af)]"
      ]
     },
     "execution_count": 353,
     "metadata": {},
     "output_type": "execute_result"
    }
   ],
   "source": [
    "# list of stones\n",
    "bg.stones[:4]"
   ]
  },
  {
   "cell_type": "code",
   "execution_count": null,
   "metadata": {
    "collapsed": true
   },
   "outputs": [],
   "source": []
  },
  {
   "cell_type": "code",
   "execution_count": 354,
   "metadata": {
    "collapsed": false
   },
   "outputs": [
    {
     "name": "stdout",
     "output_type": "stream",
     "text": [
      "\t\t0: 3 \t1: 3 \t2: 3 \t3: 3 \t4: 3 \t5: 3 \t6: 0 (T)\t\n",
      "13: 0 (T)\t12: 3 \t11: 3 \t10: 3 \t9: 3 \t8: 3 \t7: 3 \t\n",
      "Next: Player 1 \tGame State: Playing\t Captures done:True\t Last_pit: None\n",
      "\n"
     ]
    }
   ],
   "source": [
    "# Do the initial sowing of seeds\n",
    "bg.initial_place()\n",
    "print(bg)"
   ]
  },
  {
   "cell_type": "code",
   "execution_count": 355,
   "metadata": {
    "collapsed": false
   },
   "outputs": [
    {
     "name": "stdout",
     "output_type": "stream",
     "text": [
      "\t\t0: 3 \t1: 3 \t2: 3 \t3: 0 \t4: 4 \t5: 4 \t6: 1 (T)\t\n",
      "13: 0 (T)\t12: 3 \t11: 3 \t10: 3 \t9: 3 \t8: 3 \t7: 3 \t\n",
      "Next: Player 1 \tGame State: Playing\t Captures done:False\t Last_pit: 6\n",
      "\n"
     ]
    }
   ],
   "source": [
    "bg.sow(3)\n",
    "print(bg)"
   ]
  },
  {
   "cell_type": "code",
   "execution_count": 356,
   "metadata": {
    "collapsed": false
   },
   "outputs": [
    {
     "data": {
      "text/plain": [
       "[1, 0]"
      ]
     },
     "execution_count": 356,
     "metadata": {},
     "output_type": "execute_result"
    }
   ],
   "source": [
    "bg.score"
   ]
  },
  {
   "cell_type": "markdown",
   "metadata": {},
   "source": [
    "## Test-first Development\n",
    "Okay, Let's say we want to make changes to the bao engine, but we don't want to break anything. This is an admirable goal.\n",
    "\n",
    "We have our `random_game` and `play_game` routines. Can we use this to help make sure we don't break anything?\n",
    "\n",
    "\n",
    "Why not. Let's generate 50 test vectors (move lists) with random_game, and the associated score at the end of the game. This only needs to be done once (unless you later discover a bug in gameplay affecting these test vectors, in which case, you need to regenerate them)."
   ]
  },
  {
   "cell_type": "code",
   "execution_count": 7,
   "metadata": {
    "collapsed": false
   },
   "outputs": [],
   "source": [
    "# Generate test vectors\n",
    "# Comment this out, because we want to do it once, before we break anything.\n",
    "# bao.generate_test_vectors(50, 'test_vectors.json')\n"
   ]
  },
  {
   "cell_type": "markdown",
   "metadata": {},
   "source": [
    "Normally, you would do your refactoring now. Once done, verify your tests are still valid."
   ]
  },
  {
   "cell_type": "code",
   "execution_count": 370,
   "metadata": {
    "collapsed": false
   },
   "outputs": [],
   "source": [
    "# Verify test vectors\n",
    "bao = reload(bao) # python3: use importlib.reload()\n",
    "bao.verify_test_vectors('test_vectors.json')\n"
   ]
  },
  {
   "cell_type": "markdown",
   "metadata": {},
   "source": [
    "## Back to the game loop\n",
    "ok. Where were we? Refactoring the code so we could implement a game loop like this:\n",
    "* If the game is over, a message is displayed and the game mode changes. If not:\n",
    "* User clicks on a pit. If valid move, stones are picked up and sowed\n",
    "* Stones are animated to their destination. This means we need the list of `stones` and `locations` after every move\n",
    "* Captures may happen. Captured stones are animated to their destination. Scores are updated\n",
    "* The player may go again (if the turn ended in a target pit), or the active user may change. Either way, the process repeats again."
   ]
  },
  {
   "cell_type": "markdown",
   "metadata": {},
   "source": [
    "We can do this (without breaking up the animations into separate sow and capture phases like this:"
   ]
  },
  {
   "cell_type": "code",
   "execution_count": 10,
   "metadata": {
    "collapsed": false
   },
   "outputs": [
    {
     "name": "stdout",
     "output_type": "stream",
     "text": [
      "Overwriting bao.kv\n"
     ]
    }
   ],
   "source": [
    "%%file bao.kv\n",
    "##:include debug.kv\n",
    "\n",
    "<BaoGame>:\n",
    "    id: _game\n",
    "    orientation: 'vertical'\n",
    "\n",
    "    canvas.before:\n",
    "        Color:\n",
    "            rgba: 1,1,1,1\n",
    "        Rectangle:\n",
    "            size: self.size\n",
    "            pos: self.pos\n",
    "\n",
    "    board_overlay: _board_overlay\n",
    "    toolbar: _toolbar\n",
    "\n",
    "    curr_player: 1\n",
    "    scores: [0, 0]\n",
    "    turn_no: 1\n",
    "\n",
    "    BoxLayout:\n",
    "        id: _toolbar\n",
    "        start_button: _start_button\n",
    "        score: _score\n",
    "        size_hint: 1, 0.1\n",
    "        Button:\n",
    "            id: _start_button\n",
    "            text: 'Start Game'\n",
    "            on_release: root.start_game()\n",
    "        Label:\n",
    "            id: _score\n",
    "            game: _game\n",
    "            color: 0,0,0,1\n",
    "            markup: True\n",
    "            text: 'Score: [b]{} - {}[/b]'.format(*self.game.scores)\n",
    "        Label:\n",
    "            id: _score\n",
    "            color: 0,0,0,1\n",
    "            game: _game\n",
    "            text: 'Current Player: {}'.format(self.game.curr_player)\n",
    "        Label:\n",
    "            id: _score\n",
    "            color: 0,0,0,1\n",
    "            game: _game\n",
    "            text: 'Turn: {}'.format(self.game.turn_no)\n",
    "\n",
    "    FloatLayout:\n",
    "        id: _game_area\n",
    "        Image:\n",
    "            id: _game_board\n",
    "            source: 'assets/graphics/bao-board-2-6.png'\n",
    "        BoxLayout:\n",
    "            id: _board_overlay\n",
    "            orientation: 'horizontal'\n",
    "            game_board: _game_board\n",
    "            size_hint: None, None\n",
    "            size: self.game_board.norm_image_size\n",
    "            pos_hint: {'center_x': 0.5, 'center_y': 0.5}\n",
    "            padding: [self.width * 0.01, self.height * 0.18]\n",
    "            spacing: self.width * 0.01\n",
    "            GridLayout:\n",
    "                cols: 1\n",
    "                padding: [self.parent.parent.width * 0.018, self.parent.parent.height * 0.02]\n",
    "                Pit:\n",
    "                    pit_id: 13\n",
    "            GridLayout:\n",
    "                id: _player_pits\n",
    "                size_hint: 6,1\n",
    "                cols: 6\n",
    "                padding: [self.parent.width * 0.008, self.parent.height * 0.012]\n",
    "                spacing: [self.parent.width * 0.034, self.parent.height * 0.16]\n",
    "                Pit:\n",
    "                    pit_id:12\n",
    "                    text: str(self.pit_id)\n",
    "                Pit:\n",
    "                    pit_id:11\n",
    "                    text: str(self.pit_id)\n",
    "                Pit:\n",
    "                    pit_id:10\n",
    "                    text: str(self.pit_id)\n",
    "                Pit:\n",
    "                    pit_id:9\n",
    "                    text: str(self.pit_id)\n",
    "                Pit:\n",
    "                    pit_id:8\n",
    "                    text: str(self.pit_id)\n",
    "                Pit:\n",
    "                    pit_id:7\n",
    "                    text: str(self.pit_id)\n",
    "                Pit:\n",
    "                    pit_id:0\n",
    "                    text: str(self.pit_id)\n",
    "                Pit:\n",
    "                    pit_id:1\n",
    "                    text: str(self.pit_id)\n",
    "                Pit:\n",
    "                    pit_id:2\n",
    "                    text: str(self.pit_id)\n",
    "                Pit:\n",
    "                    pit_id:3\n",
    "                    text: str(self.pit_id)\n",
    "                Pit:\n",
    "                    pit_id:4\n",
    "                    text: str(self.pit_id)\n",
    "                Pit:\n",
    "                    pit_id:5\n",
    "                    text: str(self.pit_id)\n",
    "            GridLayout:\n",
    "                cols: 1\n",
    "                padding: [self.parent.parent.width * 0.018, self.parent.parent.height * 0.02]\n",
    "                Pit:\n",
    "                    pit_id:6\n",
    "                    text: str(self.pit_id)\n",
    "\n",
    "<Pit>:\n",
    "    id: _pit\n",
    "    text: ''\n",
    "    contents: _pit_contents\n",
    "    FloatLayout:\n",
    "        id: _pit_contents\n",
    "        size: self.size\n",
    "        pos: self.pos\n",
    "        Button:\n",
    "            size: self.parent.size\n",
    "            pos: self.parent.pos\n",
    "            text: root.text\n",
    "            background_color: 0,0,0,0\n",
    "            on_release: root.choose_pit()\n",
    "\n",
    "<Stone>:\n",
    "    source: 'assets/graphics/stone.png'\n",
    "    color: 1,1,1,1"
   ]
  },
  {
   "cell_type": "code",
   "execution_count": 13,
   "metadata": {
    "collapsed": false
   },
   "outputs": [
    {
     "name": "stdout",
     "output_type": "stream",
     "text": [
      "Overwriting main.py\n"
     ]
    }
   ],
   "source": [
    "%%file main.py\n",
    "from kivy.app import App\n",
    "from kivy.uix.boxlayout import BoxLayout\n",
    "from kivy.uix.gridlayout import GridLayout\n",
    "from kivy.properties import ObjectProperty, NumericProperty, ListProperty\n",
    "import bao_engine as Bao\n",
    "from kivy.logger import Logger\n",
    "from kivy.uix.image import Image\n",
    "from kivy.utils import get_color_from_hex\n",
    "from random import randrange\n",
    "from kivy.animation import Animation\n",
    "\n",
    "class Pit(BoxLayout):\n",
    "    def choose_pit(self):\n",
    "        '''Pit was touched. Act on the touch'''\n",
    "        Logger.debug('Pit: Touch on {}'.format(self.pit_obj))\n",
    "        self.board.engine.play_round(self.pit_obj.id)\n",
    "        self.board.stone_locations = self.board.engine.stones[:]\n",
    "        self.board.animate_stones(self.board.stone_locations)\n",
    "        self.board.turn_no += 1\n",
    "        self.board.scores = self.board.engine.score\n",
    "        self.board.curr_player = self.board.engine.current_player\n",
    "\n",
    "class Stone(Image):\n",
    "    pass\n",
    "\n",
    "class BaoGame(BoxLayout):\n",
    "    stone_locations = ObjectProperty(None)\n",
    "    turn_no = NumericProperty(0)\n",
    "    scores = ListProperty(None)\n",
    "    curr_player = NumericProperty(None)\n",
    "    def __init__(self, **kwargs):\n",
    "        super(BaoGame, self).__init__(**kwargs)\n",
    "        self.engine = Bao.Game()\n",
    "        self.link_pits()\n",
    "        self.init_stones()\n",
    "\n",
    "    def move_stones(self, inst, value):\n",
    "        sl = [s.kivy_obj for s in self.engine.stones if s.pit == inst.pit_obj.id]\n",
    "        for s in sl:\n",
    "            my_pos = self.pos_to_coords(s.stone_obj.position, inst)\n",
    "            s.x = my_pos[0]\n",
    "            s.y = my_pos[1]\n",
    "\n",
    "    def pos_to_coords(self, pos, obj, rows=4, cols=4):\n",
    "        '''given a position (integer), compute its coordinates inside the supplied `obj`'''\n",
    "        if obj.pit_obj.target:\n",
    "            rows = 12\n",
    "        x_coord = pos % cols\n",
    "        y_coord = pos // cols\n",
    "        y_off = obj.height / rows * y_coord\n",
    "        x_off = obj.width / cols * x_coord\n",
    "        return (obj.x + x_off, obj.y + y_off)\n",
    "\n",
    "    def init_stones(self):\n",
    "        '''put the stones somewhere. Initially, half in one target, half in the other'''\n",
    "        for stone in self.engine.stones:\n",
    "            target_pit = self.engine.pits[self.engine.targets[stone.id%2 + 1]]\n",
    "            target_pit.add(stone)\n",
    "            my_pos = self.pos_to_coords(stone.position, target_pit.kivy_obj)\n",
    "            sz = (target_pit.kivy_obj.width/3,  target_pit.kivy_obj.width/3)\n",
    "            stone.kivy_obj = Stone(size_hint=(None,None),size=sz, pos=my_pos)\n",
    "            stone.kivy_obj.color = get_color_from_hex(stone.color)\n",
    "            stone.kivy_obj.stone_obj = stone\n",
    "            target_pit.kivy_obj.contents.add_widget(stone.kivy_obj)\n",
    "\n",
    "\n",
    "    def link_pits(self):\n",
    "        for c in self.board_overlay.children:\n",
    "            if type(c) is GridLayout:\n",
    "                for c2 in c.children:\n",
    "                    if type(c2) is Pit:\n",
    "                        c2.board = self\n",
    "                        c2.pit_obj = self.engine.pits[c2.pit_id]\n",
    "                        self.engine.pits[c2.pit_id].kivy_obj = c2\n",
    "                        c2.bind(pos=self.move_stones, size=self.move_stones)\n",
    "                        Logger.debug('Link Pits: linked pit {} to {}'.format(c2.pit_id, c2.pit_obj))\n",
    "\n",
    "    def animate_stones(self, stone_list):\n",
    "        for stone in stone_list:\n",
    "            my_pit = self.engine.pits[stone.pit].kivy_obj\n",
    "            my_pos = self.pos_to_coords(stone.position, my_pit)\n",
    "            anim = Animation(x=my_pos[0], y=my_pos[1],d=0.5)\n",
    "            anim.start(stone.kivy_obj)\n",
    "\n",
    "    def on_stone_locations(self, inst, value):\n",
    "        '''Update the stones by animating them to their final location'''\n",
    "        self.animate_stones(value)\n",
    "\n",
    "\n",
    "    def start_game(self):\n",
    "        '''Do the initial sow (place) to start a game'''\n",
    "        self.engine.initial_place()\n",
    "        self.toolbar.start_button.disabled = True\n",
    "        self.stone_locations = self.engine.stones[:]\n",
    "\n",
    "class BaoApp(App):\n",
    "    def build(self):\n",
    "        bg = BaoGame()\n",
    "        return bg\n",
    "\n",
    "if __name__ == '__main__':\n",
    "    BaoApp().run()\n"
   ]
  },
  {
   "cell_type": "markdown",
   "metadata": {},
   "source": [
    "## Exercises\n",
    "* Put numbers on the board to show how many seeds are in each pit, and in the targets. (1 hour)\n"
   ]
  },
  {
   "cell_type": "code",
   "execution_count": null,
   "metadata": {
    "collapsed": true
   },
   "outputs": [],
   "source": []
  },
  {
   "cell_type": "markdown",
   "metadata": {},
   "source": [
    "* Add the ability to sow either clockwise or counterclockwise. Make this a global option (i.e. a kivy property: one of 'cw' or 'ccw'). (1 hours)\n"
   ]
  },
  {
   "cell_type": "code",
   "execution_count": null,
   "metadata": {
    "collapsed": true
   },
   "outputs": [],
   "source": []
  },
  {
   "cell_type": "markdown",
   "metadata": {
    "collapsed": true
   },
   "source": [
    "* Add one- and two- player modes (choice). Computer player will play randomly (3 hours)"
   ]
  },
  {
   "cell_type": "code",
   "execution_count": null,
   "metadata": {
    "collapsed": true
   },
   "outputs": [],
   "source": []
  },
  {
   "cell_type": "markdown",
   "metadata": {},
   "source": [
    "* Split up the turn animations into sow and capture actions. e.g. you will see the seeds first sown, then you will see the captured pieces animate to the target pit. This will involve replacing the call to play_round with one that breaks up the actions, and animates them separately (4 hours)\n"
   ]
  },
  {
   "cell_type": "code",
   "execution_count": null,
   "metadata": {
    "collapsed": true
   },
   "outputs": [],
   "source": []
  },
  {
   "cell_type": "markdown",
   "metadata": {},
   "source": [
    "* Add the ability to draw the pits (circles and rounded rectangles) dynamically, instead of relying on their being part of the background graphic. (a background graphic without pits is available in the assets directory. (2 hours)\n"
   ]
  },
  {
   "cell_type": "code",
   "execution_count": null,
   "metadata": {
    "collapsed": true
   },
   "outputs": [],
   "source": []
  },
  {
   "cell_type": "markdown",
   "metadata": {},
   "source": [
    "* Add the ability to change the shape of each pit independently (speficied in the .kv file, either 'circle', 'square', or 'rounded_rectangle'). (2 hours)\n"
   ]
  },
  {
   "cell_type": "code",
   "execution_count": null,
   "metadata": {
    "collapsed": true
   },
   "outputs": [],
   "source": []
  },
  {
   "cell_type": "markdown",
   "metadata": {},
   "source": [
    "* Add the ability to change the number of pits (currently 6) (3 hours)\n"
   ]
  },
  {
   "cell_type": "code",
   "execution_count": null,
   "metadata": {
    "collapsed": true
   },
   "outputs": [],
   "source": []
  }
 ],
 "metadata": {
  "kernelspec": {
   "display_name": "Python 2",
   "language": "python",
   "name": "python2"
  },
  "language_info": {
   "codemirror_mode": {
    "name": "ipython",
    "version": 2
   },
   "file_extension": ".py",
   "mimetype": "text/x-python",
   "name": "python",
   "nbconvert_exporter": "python",
   "pygments_lexer": "ipython2",
   "version": "2.7.11"
  }
 },
 "nbformat": 4,
 "nbformat_minor": 0
}
