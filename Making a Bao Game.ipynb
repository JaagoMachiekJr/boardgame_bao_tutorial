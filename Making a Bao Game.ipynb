{
 "cells": [
  {
   "cell_type": "code",
   "execution_count": 1,
   "metadata": {
    "collapsed": true
   },
   "outputs": [],
   "source": [
    "from __future__ import print_function"
   ]
  },
  {
   "cell_type": "code",
   "execution_count": null,
   "metadata": {
    "collapsed": true
   },
   "outputs": [],
   "source": []
  },
  {
   "cell_type": "code",
   "execution_count": 2,
   "metadata": {
    "collapsed": true
   },
   "outputs": [],
   "source": [
    "# Create the main program skeleton"
   ]
  },
  {
   "cell_type": "code",
   "execution_count": 3,
   "metadata": {
    "collapsed": false
   },
   "outputs": [
    {
     "name": "stdout",
     "output_type": "stream",
     "text": [
      "Overwriting main.py\n"
     ]
    }
   ],
   "source": [
    "%%file main.py\n",
    "from kivy.app import App\n",
    "from kivy.uix.boxlayout import BoxLayout\n",
    "\n",
    "class BaoGame(BoxLayout):\n",
    "    pass\n",
    "\n",
    "class BaoApp(App):\n",
    "    def build(self):\n",
    "        bg = BaoGame()\n",
    "        return bg\n",
    "    \n",
    "if __name__ == '__main__':\n",
    "    BaoApp().run()"
   ]
  },
  {
   "cell_type": "code",
   "execution_count": 4,
   "metadata": {
    "collapsed": false
   },
   "outputs": [
    {
     "name": "stdout",
     "output_type": "stream",
     "text": [
      "Overwriting bao.kv\n"
     ]
    }
   ],
   "source": [
    "%%file bao.kv\n",
    "#:include debug.kv\n",
    "<BaoGame>:\n",
    "    id: _game\n",
    "    orientation: 'vertical'\n",
    "    canvas.before:\n",
    "        Color:\n",
    "            rgba: 1,1,1,1\n",
    "        Rectangle:\n",
    "            size: self.size\n",
    "            pos: self.pos\n",
    "    BoxLayout:\n",
    "        id: _toolbar\n",
    "        size_hint: 1, 0.1\n",
    "        DebugLabel:\n",
    "            text: 'toolbar'\n",
    "    BoxLayout:\n",
    "        id: _game_area\n",
    "        DebugLabel:\n",
    "            text: 'grid'\n"
   ]
  },
  {
   "cell_type": "markdown",
   "metadata": {},
   "source": [
    "## Game Board Image\n",
    "We want to load the image of the game board, and layer a gridlayout on top for game pieces.\n",
    "By default, kivy preserves the image aspect ratio, but centers it in the parent widget.\n",
    "We can obtain the size of the rescaled image by looking at its `norm_image_size` property, and then simply center the gridlayout using the usual `pos_hint` technique.\n",
    "\n"
   ]
  },
  {
   "cell_type": "code",
   "execution_count": 5,
   "metadata": {
    "collapsed": false
   },
   "outputs": [
    {
     "name": "stdout",
     "output_type": "stream",
     "text": [
      "Overwriting bao.kv\n"
     ]
    }
   ],
   "source": [
    "%%file bao.kv\n",
    "#:include debug.kv\n",
    "<BaoGame>:\n",
    "    id: _game\n",
    "    orientation: 'vertical'\n",
    "    canvas.before:\n",
    "        Color:\n",
    "            rgba: 1,1,1,1\n",
    "        Rectangle:\n",
    "            size: self.size\n",
    "            pos: self.pos\n",
    "    BoxLayout:\n",
    "        id: _toolbar\n",
    "        size_hint: 1, 0.1\n",
    "        DebugLabel:\n",
    "            text: 'toolbar'\n",
    "    BoxLayout:\n",
    "        id: _game_area\n",
    "        FloatLayout:\n",
    "            Image:\n",
    "                id: _game_board\n",
    "                source: 'assets/graphics/bao-board-2-6.png'\n",
    "            GridLayout:\n",
    "                game_board: _game_board\n",
    "                size_hint: None, None\n",
    "                size: self.game_board.norm_image_size\n",
    "                pos_hint: {'center_x': 0.5, 'center_y': 0.5}\n",
    "                DebugLabel:\n",
    "                    text: 'grid'"
   ]
  },
  {
   "cell_type": "markdown",
   "metadata": {},
   "source": [
    "Now we need to align a grid over our pits. This is a little bit of trial and error, but it can be done. The trick is to set padding and spacing as a function of the actual board image size; i.e.\n",
    "```\n",
    " padding: [self.game_board.width * 0.015, self.game_board.width * 0.05]\n",
    " spacing: self.game_board.width * 0.015\n",
    "```"
   ]
  },
  {
   "cell_type": "code",
   "execution_count": 6,
   "metadata": {
    "collapsed": false
   },
   "outputs": [
    {
     "name": "stdout",
     "output_type": "stream",
     "text": [
      "Overwriting bao.kv\n"
     ]
    }
   ],
   "source": [
    "%%file bao.kv\n",
    "#:include debug.kv\n",
    "<BaoGame>:\n",
    "    id: _game\n",
    "    orientation: 'vertical'\n",
    "    canvas.before:\n",
    "        Color:\n",
    "            rgba: 1,1,1,1\n",
    "        Rectangle:\n",
    "            size: self.size\n",
    "            pos: self.pos\n",
    "    BoxLayout:\n",
    "        id: _toolbar\n",
    "        size_hint: 1, 0.1\n",
    "        DebugLabel:\n",
    "            text: 'toolbar'\n",
    "                \n",
    "    FloatLayout:\n",
    "        id: _game_area\n",
    "        Image:\n",
    "            id: _game_board\n",
    "            source: 'assets/graphics/bao-board-2-6.png'\n",
    "        GridLayout:\n",
    "            game_board: _game_board\n",
    "            size_hint: None, None\n",
    "            size: self.game_board.norm_image_size\n",
    "            pos_hint: {'center_x': 0.5, 'center_y': 0.5}\n",
    "            padding: [self.game_board.width * 0.015, self.game_board.width * 0.05]\n",
    "            spacing: self.game_board.width * 0.015\n",
    "            cols: 8\n",
    "            DebugLabel:\n",
    "            DebugLabel:\n",
    "            DebugLabel:\n",
    "            DebugLabel:\n",
    "            DebugLabel:\n",
    "            DebugLabel:\n",
    "            DebugLabel:\n",
    "            DebugLabel:\n",
    "            DebugLabel:\n",
    "            DebugLabel:\n",
    "            DebugLabel:\n",
    "            DebugLabel:\n",
    "            DebugLabel:\n",
    "            DebugLabel:\n",
    "            DebugLabel:\n",
    "            DebugLabel:\n"
   ]
  },
  {
   "cell_type": "markdown",
   "metadata": {},
   "source": [
    "Close, but let's split that up so that a single rectangle covers each player's pot"
   ]
  },
  {
   "cell_type": "code",
   "execution_count": 7,
   "metadata": {
    "collapsed": false
   },
   "outputs": [
    {
     "name": "stdout",
     "output_type": "stream",
     "text": [
      "Overwriting grids.kv\n"
     ]
    }
   ],
   "source": [
    "%%file grids.kv\n",
    "<Grid16@GridLayout>:\n",
    "    cols: 4\n",
    "    DebugLabel:\n",
    "        text: ''\n",
    "    DebugLabel:\n",
    "        text: '1'\n",
    "    DebugLabel:\n",
    "        text: '2'\n",
    "    DebugLabel:\n",
    "        text: ''\n",
    "    DebugLabel:\n",
    "        text: '4'\n",
    "    DebugLabel:\n",
    "        text: '5'\n",
    "    DebugLabel:\n",
    "        text: '6'\n",
    "    DebugLabel:\n",
    "        text: '7'\n",
    "    DebugLabel:\n",
    "        text: '8'\n",
    "    DebugLabel:\n",
    "        text: '9'\n",
    "    DebugLabel:\n",
    "        text: 'A'\n",
    "    DebugLabel:\n",
    "        text: 'B'\n",
    "    DebugLabel:\n",
    "        text: ''\n",
    "    DebugLabel:\n",
    "        text: 'D'\n",
    "    DebugLabel:\n",
    "        text: 'E'\n",
    "    DebugLabel:\n",
    "        text: ''\n",
    "        \n",
    "<Grid64@GridLayout>:\n",
    "    cols: 4\n",
    "    DebugLabel:\n",
    "        text: ''\n",
    "    DebugLabel:\n",
    "        text: '01'\n",
    "    DebugLabel:\n",
    "        text: '02'\n",
    "    DebugLabel:\n",
    "        text: ''\n",
    "    DebugLabel:\n",
    "        text: '04'\n",
    "    DebugLabel:\n",
    "        text: '05'\n",
    "    DebugLabel:\n",
    "        text: '06'\n",
    "    DebugLabel:\n",
    "        text: '07'\n",
    "    DebugLabel:\n",
    "        text: '08'\n",
    "    DebugLabel:\n",
    "        text: '09'\n",
    "    DebugLabel:\n",
    "        text: '0A'\n",
    "    DebugLabel:\n",
    "        text: '0B'\n",
    "    DebugLabel:\n",
    "        text: '0C'\n",
    "    DebugLabel:\n",
    "        text: '0D'\n",
    "    DebugLabel:\n",
    "        text: '0E'\n",
    "    DebugLabel:\n",
    "        text: '0F'\n",
    "    DebugLabel:\n",
    "        text: '10'\n",
    "    DebugLabel:\n",
    "        text: '11'\n",
    "    DebugLabel:\n",
    "        text: '12'\n",
    "    DebugLabel:\n",
    "        text: '13'\n",
    "    DebugLabel:\n",
    "        text: '14'\n",
    "    DebugLabel:\n",
    "        text: '15'\n",
    "    DebugLabel:\n",
    "        text: '16'\n",
    "    DebugLabel:\n",
    "        text: '17'\n",
    "    DebugLabel:\n",
    "        text: '18'\n",
    "    DebugLabel:\n",
    "        text: '19'\n",
    "    DebugLabel:\n",
    "        text: '1A'\n",
    "    DebugLabel:\n",
    "        text: '1B'\n",
    "    DebugLabel:\n",
    "        text: '1C'\n",
    "    DebugLabel:\n",
    "        text: '1D'\n",
    "    DebugLabel:\n",
    "        text: '1E'\n",
    "    DebugLabel:\n",
    "        text: '1F'\n",
    "    DebugLabel:\n",
    "        text: '20'\n",
    "    DebugLabel:\n",
    "        text: '21'\n",
    "    DebugLabel:\n",
    "        text: '22'\n",
    "    DebugLabel:\n",
    "        text: '23'\n",
    "    DebugLabel:\n",
    "        text: '24'\n",
    "    DebugLabel:\n",
    "        text: '25'\n",
    "    DebugLabel:\n",
    "        text: '26'\n",
    "    DebugLabel:\n",
    "        text: '27'\n",
    "    DebugLabel:\n",
    "        text: ''\n",
    "    DebugLabel:\n",
    "        text: '29'\n",
    "    DebugLabel:\n",
    "        text: '2A'\n",
    "    DebugLabel:\n",
    "        text: ''"
   ]
  },
  {
   "cell_type": "code",
   "execution_count": 8,
   "metadata": {
    "collapsed": false
   },
   "outputs": [
    {
     "name": "stdout",
     "output_type": "stream",
     "text": [
      "Overwriting bao.kv\n"
     ]
    }
   ],
   "source": [
    "%%file bao.kv\n",
    "#:include debug.kv\n",
    "#:include grids.kv\n",
    "\n",
    "<BaoGame>:\n",
    "    id: _game\n",
    "    orientation: 'vertical'\n",
    "    canvas.before:\n",
    "        Color:\n",
    "            rgba: 1,1,1,1\n",
    "        Rectangle:\n",
    "            size: self.size\n",
    "            pos: self.pos\n",
    "    BoxLayout:\n",
    "        id: _toolbar\n",
    "        size_hint: 1, 0.1\n",
    "        DebugLabel:\n",
    "            text: 'toolbar'\n",
    "    FloatLayout:\n",
    "        id: _game_area\n",
    "        Image:\n",
    "            id: _game_board\n",
    "            source: 'assets/graphics/bao-board-2-6.png'\n",
    "        BoxLayout:\n",
    "            id: _board_overlay\n",
    "            orientation: 'horizontal'\n",
    "            game_board: _game_board\n",
    "            size_hint: None, None\n",
    "            size: self.game_board.norm_image_size\n",
    "            pos_hint: {'center_x': 0.5, 'center_y': 0.5}\n",
    "            padding: [self.width * 0.01, self.height * 0.18]\n",
    "            spacing: self.width * 0.01\n",
    "            Grid64:\n",
    "                game_ovl: _board_overlay\n",
    "                padding: [self.game_ovl.width * 0.02, self.game_ovl.height * 0.01]\n",
    "            GridLayout:\n",
    "                size_hint: 6,1\n",
    "                game_ovl: _board_overlay\n",
    "                padding: [self.game_ovl.width * 0.008, self.game_ovl.height * 0.012]\n",
    "                spacing: [self.game_ovl.width * 0.034, self.game_ovl.height * 0.16]\n",
    "                cols: 6\n",
    "                Grid16:\n",
    "                    player:1\n",
    "                    pot:0\n",
    "                Grid16:\n",
    "                    player:1\n",
    "                    pot:1\n",
    "                Grid16:\n",
    "                    player:1\n",
    "                    pot:2\n",
    "                Grid16:\n",
    "                    player:1\n",
    "                    pot:3\n",
    "                Grid16:\n",
    "                    player:1\n",
    "                    pot:4\n",
    "                Grid16:\n",
    "                    player:1\n",
    "                    pot:5\n",
    "                Grid16:\n",
    "                    player:2\n",
    "                    pot:0\n",
    "                Grid16:\n",
    "                    player:2\n",
    "                    pot:1\n",
    "                Grid16:\n",
    "                    player:2\n",
    "                    pot:2\n",
    "                Grid16:\n",
    "                    player:2\n",
    "                    pot:3\n",
    "                Grid16:\n",
    "                    player:2\n",
    "                    pot:4\n",
    "                Grid16:\n",
    "                    player:2\n",
    "                    pot:5\n",
    "            Grid64:\n",
    "                game_ovl: _board_overlay\n",
    "                padding: [self.game_ovl.width * 0.02, self.game_ovl.height * 0.01]\n",
    "\n",
    "        "
   ]
  },
  {
   "cell_type": "markdown",
   "metadata": {},
   "source": [
    "## Interfacing with a bao engine\n",
    "Now comes the fun part. How do we connect this with a game engine?\n",
    "Let's take a simple bao engine, written without a UI. Let's imagine how interaction with the game should work.\n",
    "\n",
    "If you are interested in knowing the rules to bao (and in particular, the variant we implemented, [Kalah](https://en.wikipedia.org/wiki/Kalah)), see the pages on [Mancala](https://en.wikipedia.org/wiki/Mancala) games.\n",
    "\n",
    "Our basic game loop will go something like this:\n",
    "* If the game is over, a message is displayed and the game mode changes. If not:\n",
    "* User clicks on a pit. If valid move, stones are picked up and sowed\n",
    "* Stones are animated to their destination. This means we need the list of `stones` and `locations` after every move\n",
    "* Captures may happen. Captured stones are animated to their destination. Scores are updated\n",
    "* The player may go again (if the turn ended in a target pit), or the active user may change. Either way, the process repeats again.\n",
    "\n",
    "Let's see some of the properties we have available to us:"
   ]
  },
  {
   "cell_type": "code",
   "execution_count": 251,
   "metadata": {
    "collapsed": false
   },
   "outputs": [],
   "source": [
    "# import the game engine\n",
    "import bao_engine as bao\n",
    "bao = reload(bao) # python3: use importlib.reload()"
   ]
  },
  {
   "cell_type": "code",
   "execution_count": 252,
   "metadata": {
    "collapsed": false
   },
   "outputs": [],
   "source": [
    "#create a new game\n",
    "bg = bao.bao_game()"
   ]
  },
  {
   "cell_type": "code",
   "execution_count": 253,
   "metadata": {
    "collapsed": false
   },
   "outputs": [
    {
     "data": {
      "text/plain": [
       "False"
      ]
     },
     "execution_count": 253,
     "metadata": {},
     "output_type": "execute_result"
    }
   ],
   "source": [
    "# is the game over?\n",
    "bg.game_over"
   ]
  },
  {
   "cell_type": "code",
   "execution_count": 254,
   "metadata": {
    "collapsed": false
   },
   "outputs": [
    {
     "data": {
      "text/plain": [
       "1"
      ]
     },
     "execution_count": 254,
     "metadata": {},
     "output_type": "execute_result"
    }
   ],
   "source": [
    "# players are numbered 1 and 2\n",
    "bg.current_player"
   ]
  },
  {
   "cell_type": "code",
   "execution_count": 255,
   "metadata": {
    "collapsed": false
   },
   "outputs": [
    {
     "data": {
      "text/plain": [
       "[0, 0]"
      ]
     },
     "execution_count": 255,
     "metadata": {},
     "output_type": "execute_result"
    }
   ],
   "source": [
    "# score = # stones in each player's target pit\n",
    "bg.score"
   ]
  },
  {
   "cell_type": "code",
   "execution_count": 256,
   "metadata": {
    "collapsed": false
   },
   "outputs": [
    {
     "data": {
      "text/plain": [
       "36"
      ]
     },
     "execution_count": 256,
     "metadata": {},
     "output_type": "execute_result"
    }
   ],
   "source": [
    "# number of stones total\n",
    "bg.n_stones"
   ]
  },
  {
   "cell_type": "code",
   "execution_count": 257,
   "metadata": {
    "collapsed": false
   },
   "outputs": [
    {
     "data": {
      "text/plain": [
       "[(id=0, pit=None, pos=None, color=#6666af),\n",
       " (id=1, pit=None, pos=None, color=#6666af),\n",
       " (id=2, pit=None, pos=None, color=#6666af),\n",
       " (id=3, pit=None, pos=None, color=#6666af)]"
      ]
     },
     "execution_count": 257,
     "metadata": {},
     "output_type": "execute_result"
    }
   ],
   "source": [
    "# list of stones\n",
    "bg.stones[:4]"
   ]
  },
  {
   "cell_type": "code",
   "execution_count": null,
   "metadata": {
    "collapsed": true
   },
   "outputs": [],
   "source": []
  },
  {
   "cell_type": "code",
   "execution_count": 258,
   "metadata": {
    "collapsed": false
   },
   "outputs": [
    {
     "name": "stdout",
     "output_type": "stream",
     "text": [
      "\t\t0: 3 \t1: 3 \t2: 3 \t3: 3 \t4: 3 \t5: 3 \t6: 0 (T)\t\n",
      "13: 0 (T)\t12: 3 \t11: 3 \t10: 3 \t9: 3 \t8: 3 \t7: 3 \t\n",
      "Next: Player 1 \tGame State: Playing\t Captures done:True\t Last_pit: None\n",
      "\n"
     ]
    }
   ],
   "source": [
    "# Do the initial sowing of seeds\n",
    "bg.initial_place()\n",
    "print(bg)"
   ]
  },
  {
   "cell_type": "code",
   "execution_count": 259,
   "metadata": {
    "collapsed": false
   },
   "outputs": [
    {
     "name": "stdout",
     "output_type": "stream",
     "text": [
      "\t\t0: 3 \t1: 3 \t2: 3 \t3: 0 \t4: 4 \t5: 4 \t6: 1 (T)\t\n",
      "13: 0 (T)\t12: 3 \t11: 3 \t10: 3 \t9: 3 \t8: 3 \t7: 3 \t\n",
      "Next: Player 1 \tGame State: Playing\t Captures done:True\t Last_pit: None\n",
      "\n"
     ]
    }
   ],
   "source": [
    "bg.sow(3)\n",
    "print(bg)"
   ]
  },
  {
   "cell_type": "code",
   "execution_count": 260,
   "metadata": {
    "collapsed": false
   },
   "outputs": [
    {
     "data": {
      "text/plain": [
       "[1, 0]"
      ]
     },
     "execution_count": 260,
     "metadata": {},
     "output_type": "execute_result"
    }
   ],
   "source": [
    "bg.score"
   ]
  },
  {
   "cell_type": "markdown",
   "metadata": {},
   "source": [
    "## Test-first Development\n",
    "Okay, we need to break up the main loop of the bao engine to expose these different parts. In particular, to split captures from sowing. Before that, we want to be sure we don't break anything too badly.\n",
    "\n",
    "We have our `random_game` and `play_game` routines. Can we use this to help make sure we don't break anything?\n",
    "\n",
    "\n",
    "Why not. Let's generate 50 test vectors (move lists) with random_game, and the associated score at the end of the game"
   ]
  },
  {
   "cell_type": "code",
   "execution_count": 261,
   "metadata": {
    "collapsed": false
   },
   "outputs": [
    {
     "data": {
      "text/plain": [
       "[0, 0]"
      ]
     },
     "execution_count": 261,
     "metadata": {},
     "output_type": "execute_result"
    }
   ],
   "source": [
    "bg = bao.bao_game()\n",
    "bg.initial_place()\n",
    "bg.score"
   ]
  },
  {
   "cell_type": "code",
   "execution_count": 262,
   "metadata": {
    "collapsed": false
   },
   "outputs": [],
   "source": [
    "# Generate test vectors\n",
    "import json\n",
    "\n",
    "test_vectors = []\n",
    "for i in range(50):\n",
    "    bg = bao.bao_game()\n",
    "    bg.initial_place()\n",
    "    bao.random_game(bao=bg)\n",
    "    test_vectors.append((bg.move_list, bg.score))\n",
    "    \n",
    "with open('test_vectors.json', 'w') as fp:\n",
    "    json.dump(test_vectors, fp)"
   ]
  },
  {
   "cell_type": "code",
   "execution_count": null,
   "metadata": {
    "collapsed": false
   },
   "outputs": [],
   "source": []
  },
  {
   "cell_type": "code",
   "execution_count": 268,
   "metadata": {
    "collapsed": false
   },
   "outputs": [],
   "source": [
    "# Verify test vectors\n",
    "bao = reload(bao) # python3: use importlib.reload()\n",
    "import json\n",
    "\n",
    "from kivy.vector import Vector\n",
    "with open('test_vectors.json', 'r') as fr:\n",
    "    tv = json.load(fr)\n",
    "    for (ml, score) in tv:\n",
    "        b,s = play_game(ml)\n",
    "        if sum(Vector(score) - s) != 0:\n",
    "            raise RuntimeError, 'New score {} != {}. for test moves {}'.format(s, score, ml)\n",
    "    "
   ]
  },
  {
   "cell_type": "code",
   "execution_count": 153,
   "metadata": {
    "collapsed": false
   },
   "outputs": [],
   "source": []
  },
  {
   "cell_type": "code",
   "execution_count": null,
   "metadata": {
    "collapsed": true
   },
   "outputs": [],
   "source": []
  },
  {
   "cell_type": "code",
   "execution_count": null,
   "metadata": {
    "collapsed": true
   },
   "outputs": [],
   "source": []
  },
  {
   "cell_type": "code",
   "execution_count": null,
   "metadata": {
    "collapsed": true
   },
   "outputs": [],
   "source": []
  }
 ],
 "metadata": {
  "kernelspec": {
   "display_name": "Python 2",
   "language": "python",
   "name": "python2"
  },
  "language_info": {
   "codemirror_mode": {
    "name": "ipython",
    "version": 2
   },
   "file_extension": ".py",
   "mimetype": "text/x-python",
   "name": "python",
   "nbconvert_exporter": "python",
   "pygments_lexer": "ipython2",
   "version": "2.7.11"
  }
 },
 "nbformat": 4,
 "nbformat_minor": 0
}
