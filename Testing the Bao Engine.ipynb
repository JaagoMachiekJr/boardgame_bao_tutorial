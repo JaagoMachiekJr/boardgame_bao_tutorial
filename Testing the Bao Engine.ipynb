{
 "cells": [
  {
   "cell_type": "code",
   "execution_count": 10,
   "metadata": {
    "collapsed": false
   },
   "outputs": [],
   "source": [
    "from __future__ import print_function\n",
    "from bao_engine import pit, stone, bao_game, random_game, play_game"
   ]
  },
  {
   "cell_type": "code",
   "execution_count": 2,
   "metadata": {
    "collapsed": false
   },
   "outputs": [],
   "source": [
    "for gno in range(10000):    \n",
    "    try:\n",
    "        game, score = random_game()\n",
    "        #print('Game {}: {}\\n{}'.format(gno,score,game))\n",
    "        if (sum(score) != 36):\n",
    "            print(\"Error!: {}, {}\", score, game)\n",
    "            break  \n",
    "    except:\n",
    "        print(\"Unknown Error!: {}, {}\", score, game)\n",
    "        break"
   ]
  },
  {
   "cell_type": "code",
   "execution_count": null,
   "metadata": {
    "collapsed": true
   },
   "outputs": [],
   "source": []
  },
  {
   "cell_type": "code",
   "execution_count": null,
   "metadata": {
    "collapsed": true
   },
   "outputs": [],
   "source": []
  },
  {
   "cell_type": "code",
   "execution_count": null,
   "metadata": {
    "collapsed": true
   },
   "outputs": [],
   "source": []
  },
  {
   "cell_type": "markdown",
   "metadata": {},
   "source": [
    "## Test Vectors and Error Conditions\n",
    "Using `random_game()` has found us a few bugs. \n",
    "\n",
    "* (more of a design limitation): What do we do when all 12 positions in a pit are used up? \n",
    "  * Answer: rewrite the code to put lists of stones at each position, and be content to draw them over top of each other\n",
    "\n",
    "* Ending the game with more than 12 positions full leaves stones on the board"
   ]
  },
  {
   "cell_type": "code",
   "execution_count": 3,
   "metadata": {
    "collapsed": true
   },
   "outputs": [],
   "source": [
    "t1 = (\"All positions full error\", [1, 9, 2, 0, 7, 3, 11, 0, 10, 1, 11, 4, 7, 5, 11, 8, 0, 7, 3, 11, 2, 5, 4, 9, 1, 11])\n",
    "t2 = (\"Game ends with all positions full in a pit\", [2, 9, 0, 12, 0, 11, 0, 7, 2, 12, 9, 5, 9, 4, 7, 5, 1, 9, 2, 10, 0, 7, 2, 12, 4, 0, 11, 8, 2, 10, 1, 9, 4, 11, 12, 1])\n",
    "t3 = (\"Game ends leaving pieces on the board\", [4, 9, 2, 7, 1, 12, 3, 10, 5, 12, 10, 2, 8, 1, 12, 7, 2, 8, 4, 10, 0, 3, 7, 1, 9, 0, 10, 4, 1, 12, 8, 3, 9, 4, 10, 5, 9])"
   ]
  },
  {
   "cell_type": "code",
   "execution_count": 4,
   "metadata": {
    "collapsed": false
   },
   "outputs": [
    {
     "name": "stdout",
     "output_type": "stream",
     "text": [
      "\t\t0: 0 \t1: 0 \t2: 0 \t3: 0 \t4: 0 \t5: 0 \t6: 8 (T)\t\n",
      "13: 11 (T)\t12: 0 \t11: 13 \t10: 1 \t9: 1 \t8: 1 \t7: 1 \t\n",
      "Next: Player 2 \tGame State: Playing\n",
      "\n"
     ]
    }
   ],
   "source": [
    "bao, score = play_game(t3[1][:-1])\n",
    "print(bao)"
   ]
  },
  {
   "cell_type": "code",
   "execution_count": 5,
   "metadata": {
    "collapsed": false
   },
   "outputs": [
    {
     "name": "stdout",
     "output_type": "stream",
     "text": [
      "\t\t0: 0 \t1: 0 \t2: 0 \t3: 0 \t4: 0 \t5: 0 \t6: 8 (T)\t\n",
      "13: 28 (T)\t12: 0 \t11: 0 \t10: 0 \t9: 0 \t8: 0 \t7: 0 \t\n",
      "Next: Player 2 \tGame State: Game Over\n",
      "\n"
     ]
    }
   ],
   "source": [
    "bao.sow(9)\n",
    "print(bao)"
   ]
  },
  {
   "cell_type": "code",
   "execution_count": 6,
   "metadata": {
    "collapsed": false
   },
   "outputs": [
    {
     "name": "stdout",
     "output_type": "stream",
     "text": [
      "\t\t0: 0 \t1: 0 \t2: 0 \t3: 0 \t4: 0 \t5: 0 \t6: 8 (T)\t\n",
      "13: 28 (T)\t12: 0 \t11: 0 \t10: 0 \t9: 0 \t8: 0 \t7: 0 \t\n",
      "Next: Player 2 \tGame State: Game Over\n",
      "\n"
     ]
    }
   ],
   "source": [
    "print(bao)"
   ]
  },
  {
   "cell_type": "code",
   "execution_count": null,
   "metadata": {
    "collapsed": true
   },
   "outputs": [],
   "source": []
  },
  {
   "cell_type": "code",
   "execution_count": null,
   "metadata": {
    "collapsed": false
   },
   "outputs": [],
   "source": []
  },
  {
   "cell_type": "code",
   "execution_count": null,
   "metadata": {
    "collapsed": false
   },
   "outputs": [],
   "source": []
  },
  {
   "cell_type": "markdown",
   "metadata": {},
   "source": [
    "### Put 'em down. Pick 'em up\n",
    "We should be able to lay down all the stones, then pick them up again"
   ]
  },
  {
   "cell_type": "code",
   "execution_count": 7,
   "metadata": {
    "collapsed": false
   },
   "outputs": [
    {
     "name": "stdout",
     "output_type": "stream",
     "text": [
      " 21 \n",
      "2111\n",
      "1111\n",
      " 22 \n",
      "1: p1 \n",
      "\n",
      "Removing stone 3 from pit 1, loc 1\n",
      "Removing stone 13 from pit 1, loc 1\n",
      "Removing stone 6 from pit 1, loc 2\n",
      "Removing stone 4 from pit 1, loc 4\n",
      "Removing stone 14 from pit 1, loc 4\n",
      "Removing stone 0 from pit 1, loc 5\n",
      "Removing stone 8 from pit 1, loc 6\n",
      "Removing stone 11 from pit 1, loc 7\n",
      "Removing stone 9 from pit 1, loc 8\n",
      "Removing stone 10 from pit 1, loc 9\n",
      "Removing stone 7 from pit 1, loc 10\n",
      "Removing stone 1 from pit 1, loc 11\n",
      "Removing stone 2 from pit 1, loc 13\n",
      "Removing stone 12 from pit 1, loc 13\n",
      "Removing stone 5 from pit 1, loc 14\n",
      "Removing stone 15 from pit 1, loc 14\n",
      " .. \n",
      "....\n",
      "....\n",
      " .. \n",
      "1: p1 \n",
      "\n",
      "[]\n"
     ]
    }
   ],
   "source": [
    "p = pit(id=1)\n",
    "ss = [stone(id=i) for i in range(16)]\n",
    "for s in ss:\n",
    "    p.add(s)\n",
    "p.pretty_print()\n",
    "p.pickup_stones(debug=True)\n",
    "left = p.count_stones()\n",
    "if left:\n",
    "    print(\"Should be no stones left. Found {}\".format(left))\n",
    "p.pretty_print()\n",
    "print([s for s in ss if s.pit is not None])"
   ]
  },
  {
   "cell_type": "markdown",
   "metadata": {},
   "source": [
    "## Double-placing a stone\n",
    "This should work, but with our current bug in `pickup_stones`, it doesn't. some stones are left behind, so we get an assert fail "
   ]
  },
  {
   "cell_type": "code",
   "execution_count": 8,
   "metadata": {
    "collapsed": false
   },
   "outputs": [
    {
     "name": "stdout",
     "output_type": "stream",
     "text": [
      " 11 \n",
      "1212\n",
      "1121\n",
      " 12 \n",
      "1: p1 \n",
      "\n",
      " 12 \n",
      "1121\n",
      "1112\n",
      " 12 \n",
      "1: p1 \n",
      "\n",
      " .. \n",
      "....\n",
      "....\n",
      " .. \n",
      "1: p1 \n",
      "\n",
      "[]\n"
     ]
    }
   ],
   "source": [
    "p = pit(id=1)\n",
    "ss = [stone(id=i) for i in range(16)]\n",
    "for s in ss:\n",
    "    p.add(s)\n",
    "p.pretty_print()\n",
    "p.pickup_stones()\n",
    "for s in ss:\n",
    "    p.add(s)\n",
    "p.pretty_print()\n",
    "p.pickup_stones()\n",
    "left = p.count_stones()\n",
    "if left:\n",
    "    print(\"Should be no stones left. Found {}\".format(left))\n",
    "p.pretty_print()\n",
    "print([s for s in ss if s.pit is not None])"
   ]
  },
  {
   "cell_type": "code",
   "execution_count": 9,
   "metadata": {
    "collapsed": false
   },
   "outputs": [
    {
     "data": {
      "text/plain": [
       "(\t\t0: 0 \t1: 0 \t2: 0 \t3: 0 \t4: 0 \t5: 0 \t6: 24 (T)\t\n",
       " 13: 12 (T)\t12: 0 \t11: 0 \t10: 0 \t9: 0 \t8: 0 \t7: 0 \t\n",
       " Next: Player 1 \tGame State: Game Over, [24, 12])"
      ]
     },
     "execution_count": 9,
     "metadata": {},
     "output_type": "execute_result"
    }
   ],
   "source": [
    "play_game([4, 10, 9, 3, 0, 7, 1, 9, 2, 12, 1, 8, 2, 11, 3, 9, 5, 12, 4, 7, 2, 11, 8, 0, 10, 2, 11, 12, 0])"
   ]
  },
  {
   "cell_type": "code",
   "execution_count": null,
   "metadata": {
    "collapsed": true
   },
   "outputs": [],
   "source": []
  }
 ],
 "metadata": {
  "kernelspec": {
   "display_name": "Python 2",
   "language": "python",
   "name": "python2"
  },
  "language_info": {
   "codemirror_mode": {
    "name": "ipython",
    "version": 2
   },
   "file_extension": ".py",
   "mimetype": "text/x-python",
   "name": "python",
   "nbconvert_exporter": "python",
   "pygments_lexer": "ipython2",
   "version": "2.7.11"
  }
 },
 "nbformat": 4,
 "nbformat_minor": 0
}
