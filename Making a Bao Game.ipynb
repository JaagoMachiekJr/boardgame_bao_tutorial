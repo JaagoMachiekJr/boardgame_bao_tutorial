{
 "cells": [
  {
   "cell_type": "code",
   "execution_count": 1,
   "metadata": {
    "collapsed": true
   },
   "outputs": [],
   "source": [
    "from __future__ import print_function"
   ]
  },
  {
   "cell_type": "code",
   "execution_count": null,
   "metadata": {
    "collapsed": true
   },
   "outputs": [],
   "source": []
  },
  {
   "cell_type": "code",
   "execution_count": 2,
   "metadata": {
    "collapsed": true
   },
   "outputs": [],
   "source": [
    "# Create the main program skeleton"
   ]
  },
  {
   "cell_type": "code",
   "execution_count": 3,
   "metadata": {
    "collapsed": false
   },
   "outputs": [
    {
     "name": "stdout",
     "output_type": "stream",
     "text": [
      "Overwriting main.py\n"
     ]
    }
   ],
   "source": [
    "%%file main.py\n",
    "from kivy.app import App\n",
    "from kivy.uix.boxlayout import BoxLayout\n",
    "\n",
    "class BaoGame(BoxLayout):\n",
    "    pass\n",
    "\n",
    "class BaoApp(App):\n",
    "    def build(self):\n",
    "        bg = BaoGame()\n",
    "        return bg\n",
    "    \n",
    "if __name__ == '__main__':\n",
    "    BaoApp().run()"
   ]
  },
  {
   "cell_type": "code",
   "execution_count": 4,
   "metadata": {
    "collapsed": false
   },
   "outputs": [
    {
     "name": "stdout",
     "output_type": "stream",
     "text": [
      "Overwriting bao.kv\n"
     ]
    }
   ],
   "source": [
    "%%file bao.kv\n",
    "#:include debug.kv\n",
    "<BaoGame>:\n",
    "    id: _game\n",
    "    orientation: 'vertical'\n",
    "    canvas.before:\n",
    "        Color:\n",
    "            rgba: 1,1,1,1\n",
    "        Rectangle:\n",
    "            size: self.size\n",
    "            pos: self.pos\n",
    "    BoxLayout:\n",
    "        id: _toolbar\n",
    "        size_hint: 1, 0.1\n",
    "        DebugLabel:\n",
    "            text: 'toolbar'\n",
    "    BoxLayout:\n",
    "        id: _game_area\n",
    "        DebugLabel:\n",
    "            text: 'grid'\n"
   ]
  },
  {
   "cell_type": "markdown",
   "metadata": {},
   "source": [
    "## Game Board Image\n",
    "We want to load the image of the game board, and layer a gridlayout on top for game pieces.\n",
    "By default, kivy preserves the image aspect ratio, but centers it in the parent widget.\n",
    "We can obtain the size of the rescaled image by looking at its `norm_image_size` property, and then simply center the gridlayout using the usual `pos_hint` technique.\n",
    "\n"
   ]
  },
  {
   "cell_type": "code",
   "execution_count": 5,
   "metadata": {
    "collapsed": false
   },
   "outputs": [
    {
     "name": "stdout",
     "output_type": "stream",
     "text": [
      "Overwriting bao.kv\n"
     ]
    }
   ],
   "source": [
    "%%file bao.kv\n",
    "#:include debug.kv\n",
    "<BaoGame>:\n",
    "    id: _game\n",
    "    orientation: 'vertical'\n",
    "    canvas.before:\n",
    "        Color:\n",
    "            rgba: 1,1,1,1\n",
    "        Rectangle:\n",
    "            size: self.size\n",
    "            pos: self.pos\n",
    "    BoxLayout:\n",
    "        id: _toolbar\n",
    "        size_hint: 1, 0.1\n",
    "        DebugLabel:\n",
    "            text: 'toolbar'\n",
    "    BoxLayout:\n",
    "        id: _game_area\n",
    "        FloatLayout:\n",
    "            Image:\n",
    "                id: _game_board\n",
    "                source: 'assets/graphics/bao-board-2-6.png'\n",
    "            GridLayout:\n",
    "                game_board: _game_board\n",
    "                size_hint: None, None\n",
    "                size: self.game_board.norm_image_size\n",
    "                pos_hint: {'center_x': 0.5, 'center_y': 0.5}\n",
    "                DebugLabel:\n",
    "                    text: 'grid'"
   ]
  },
  {
   "cell_type": "markdown",
   "metadata": {},
   "source": [
    "Now we need to align a grid over our pits. This is a little bit of trial and error, but it can be done. The trick is to set padding and spacing as a function of the actual board image size; i.e.\n",
    "```\n",
    " padding: [self.game_board.width * 0.015, self.game_board.width * 0.05]\n",
    " spacing: self.game_board.width * 0.015\n",
    "```"
   ]
  },
  {
   "cell_type": "code",
   "execution_count": 6,
   "metadata": {
    "collapsed": false
   },
   "outputs": [
    {
     "name": "stdout",
     "output_type": "stream",
     "text": [
      "Overwriting bao.kv\n"
     ]
    }
   ],
   "source": [
    "%%file bao.kv\n",
    "#:include debug.kv\n",
    "<BaoGame>:\n",
    "    id: _game\n",
    "    orientation: 'vertical'\n",
    "    canvas.before:\n",
    "        Color:\n",
    "            rgba: 1,1,1,1\n",
    "        Rectangle:\n",
    "            size: self.size\n",
    "            pos: self.pos\n",
    "    BoxLayout:\n",
    "        id: _toolbar\n",
    "        size_hint: 1, 0.1\n",
    "        DebugLabel:\n",
    "            text: 'toolbar'\n",
    "                \n",
    "    FloatLayout:\n",
    "        id: _game_area\n",
    "        Image:\n",
    "            id: _game_board\n",
    "            source: 'assets/graphics/bao-board-2-6.png'\n",
    "        GridLayout:\n",
    "            game_board: _game_board\n",
    "            size_hint: None, None\n",
    "            size: self.game_board.norm_image_size\n",
    "            pos_hint: {'center_x': 0.5, 'center_y': 0.5}\n",
    "            padding: [self.game_board.width * 0.015, self.game_board.width * 0.05]\n",
    "            spacing: self.game_board.width * 0.015\n",
    "            cols: 8\n",
    "            DebugLabel:\n",
    "            DebugLabel:\n",
    "            DebugLabel:\n",
    "            DebugLabel:\n",
    "            DebugLabel:\n",
    "            DebugLabel:\n",
    "            DebugLabel:\n",
    "            DebugLabel:\n",
    "            DebugLabel:\n",
    "            DebugLabel:\n",
    "            DebugLabel:\n",
    "            DebugLabel:\n",
    "            DebugLabel:\n",
    "            DebugLabel:\n",
    "            DebugLabel:\n",
    "            DebugLabel:\n"
   ]
  },
  {
   "cell_type": "markdown",
   "metadata": {},
   "source": [
    "Close, but let's split that up so that a single rectangle covers each player's pot"
   ]
  },
  {
   "cell_type": "code",
   "execution_count": 7,
   "metadata": {
    "collapsed": false
   },
   "outputs": [
    {
     "name": "stdout",
     "output_type": "stream",
     "text": [
      "Overwriting grids.kv\n"
     ]
    }
   ],
   "source": [
    "%%file grids.kv\n",
    "<Grid16@GridLayout>:\n",
    "    cols: 4\n",
    "    DebugLabel:\n",
    "        text: ''\n",
    "    DebugLabel:\n",
    "        text: '1'\n",
    "    DebugLabel:\n",
    "        text: '2'\n",
    "    DebugLabel:\n",
    "        text: ''\n",
    "    DebugLabel:\n",
    "        text: '4'\n",
    "    DebugLabel:\n",
    "        text: '5'\n",
    "    DebugLabel:\n",
    "        text: '6'\n",
    "    DebugLabel:\n",
    "        text: '7'\n",
    "    DebugLabel:\n",
    "        text: '8'\n",
    "    DebugLabel:\n",
    "        text: '9'\n",
    "    DebugLabel:\n",
    "        text: 'A'\n",
    "    DebugLabel:\n",
    "        text: 'B'\n",
    "    DebugLabel:\n",
    "        text: ''\n",
    "    DebugLabel:\n",
    "        text: 'D'\n",
    "    DebugLabel:\n",
    "        text: 'E'\n",
    "    DebugLabel:\n",
    "        text: ''\n",
    "        \n",
    "<Grid64@GridLayout>:\n",
    "    cols: 4\n",
    "    DebugLabel:\n",
    "        text: ''\n",
    "    DebugLabel:\n",
    "        text: '01'\n",
    "    DebugLabel:\n",
    "        text: '02'\n",
    "    DebugLabel:\n",
    "        text: ''\n",
    "    DebugLabel:\n",
    "        text: '04'\n",
    "    DebugLabel:\n",
    "        text: '05'\n",
    "    DebugLabel:\n",
    "        text: '06'\n",
    "    DebugLabel:\n",
    "        text: '07'\n",
    "    DebugLabel:\n",
    "        text: '08'\n",
    "    DebugLabel:\n",
    "        text: '09'\n",
    "    DebugLabel:\n",
    "        text: '0A'\n",
    "    DebugLabel:\n",
    "        text: '0B'\n",
    "    DebugLabel:\n",
    "        text: '0C'\n",
    "    DebugLabel:\n",
    "        text: '0D'\n",
    "    DebugLabel:\n",
    "        text: '0E'\n",
    "    DebugLabel:\n",
    "        text: '0F'\n",
    "    DebugLabel:\n",
    "        text: '10'\n",
    "    DebugLabel:\n",
    "        text: '11'\n",
    "    DebugLabel:\n",
    "        text: '12'\n",
    "    DebugLabel:\n",
    "        text: '13'\n",
    "    DebugLabel:\n",
    "        text: '14'\n",
    "    DebugLabel:\n",
    "        text: '15'\n",
    "    DebugLabel:\n",
    "        text: '16'\n",
    "    DebugLabel:\n",
    "        text: '17'\n",
    "    DebugLabel:\n",
    "        text: '18'\n",
    "    DebugLabel:\n",
    "        text: '19'\n",
    "    DebugLabel:\n",
    "        text: '1A'\n",
    "    DebugLabel:\n",
    "        text: '1B'\n",
    "    DebugLabel:\n",
    "        text: '1C'\n",
    "    DebugLabel:\n",
    "        text: '1D'\n",
    "    DebugLabel:\n",
    "        text: '1E'\n",
    "    DebugLabel:\n",
    "        text: '1F'\n",
    "    DebugLabel:\n",
    "        text: '20'\n",
    "    DebugLabel:\n",
    "        text: '21'\n",
    "    DebugLabel:\n",
    "        text: '22'\n",
    "    DebugLabel:\n",
    "        text: '23'\n",
    "    DebugLabel:\n",
    "        text: '24'\n",
    "    DebugLabel:\n",
    "        text: '25'\n",
    "    DebugLabel:\n",
    "        text: '26'\n",
    "    DebugLabel:\n",
    "        text: '27'\n",
    "    DebugLabel:\n",
    "        text: ''\n",
    "    DebugLabel:\n",
    "        text: '29'\n",
    "    DebugLabel:\n",
    "        text: '2A'\n",
    "    DebugLabel:\n",
    "        text: ''"
   ]
  },
  {
   "cell_type": "code",
   "execution_count": 8,
   "metadata": {
    "collapsed": false
   },
   "outputs": [
    {
     "name": "stdout",
     "output_type": "stream",
     "text": [
      "Overwriting bao.kv\n"
     ]
    }
   ],
   "source": [
    "%%file bao.kv\n",
    "#:include debug.kv\n",
    "#:include grids.kv\n",
    "\n",
    "<BaoGame>:\n",
    "    id: _game\n",
    "    orientation: 'vertical'\n",
    "    canvas.before:\n",
    "        Color:\n",
    "            rgba: 1,1,1,1\n",
    "        Rectangle:\n",
    "            size: self.size\n",
    "            pos: self.pos\n",
    "    BoxLayout:\n",
    "        id: _toolbar\n",
    "        size_hint: 1, 0.1\n",
    "        DebugLabel:\n",
    "            text: 'toolbar'\n",
    "    FloatLayout:\n",
    "        id: _game_area\n",
    "        Image:\n",
    "            id: _game_board\n",
    "            source: 'assets/graphics/bao-board-2-6.png'\n",
    "        BoxLayout:\n",
    "            id: _board_overlay\n",
    "            orientation: 'horizontal'\n",
    "            game_board: _game_board\n",
    "            size_hint: None, None\n",
    "            size: self.game_board.norm_image_size\n",
    "            pos_hint: {'center_x': 0.5, 'center_y': 0.5}\n",
    "            padding: [self.width * 0.01, self.height * 0.18]\n",
    "            spacing: self.width * 0.01\n",
    "            Grid64:\n",
    "                game_ovl: _board_overlay\n",
    "                padding: [self.game_ovl.width * 0.02, self.game_ovl.height * 0.01]\n",
    "            GridLayout:\n",
    "                size_hint: 6,1\n",
    "                game_ovl: _board_overlay\n",
    "                padding: [self.game_ovl.width * 0.008, self.game_ovl.height * 0.012]\n",
    "                spacing: [self.game_ovl.width * 0.034, self.game_ovl.height * 0.16]\n",
    "                cols: 6\n",
    "                Grid16:\n",
    "                    player:1\n",
    "                    pot:0\n",
    "                Grid16:\n",
    "                    player:1\n",
    "                    pot:1\n",
    "                Grid16:\n",
    "                    player:1\n",
    "                    pot:2\n",
    "                Grid16:\n",
    "                    player:1\n",
    "                    pot:3\n",
    "                Grid16:\n",
    "                    player:1\n",
    "                    pot:4\n",
    "                Grid16:\n",
    "                    player:1\n",
    "                    pot:5\n",
    "                Grid16:\n",
    "                    player:2\n",
    "                    pot:0\n",
    "                Grid16:\n",
    "                    player:2\n",
    "                    pot:1\n",
    "                Grid16:\n",
    "                    player:2\n",
    "                    pot:2\n",
    "                Grid16:\n",
    "                    player:2\n",
    "                    pot:3\n",
    "                Grid16:\n",
    "                    player:2\n",
    "                    pot:4\n",
    "                Grid16:\n",
    "                    player:2\n",
    "                    pot:5\n",
    "            Grid64:\n",
    "                game_ovl: _board_overlay\n",
    "                padding: [self.game_ovl.width * 0.02, self.game_ovl.height * 0.01]\n",
    "\n",
    "        "
   ]
  },
  {
   "cell_type": "markdown",
   "metadata": {},
   "source": [
    "Let's get started on a game engine. Bao has pits and stones. We could use some entities to keep track of such things.\n",
    "\n",
    "A pit has to know what stones are in it. "
   ]
  },
  {
   "cell_type": "code",
   "execution_count": 192,
   "metadata": {
    "collapsed": false
   },
   "outputs": [
    {
     "name": "stdout",
     "output_type": "stream",
     "text": [
      "0: 0 \n",
      "1: 0 \n",
      "2: 0 (T)\n",
      "3: 0 \n",
      "4: 0 \n",
      "5: 0 (T)\n"
     ]
    },
    {
     "data": {
      "text/plain": [
       "[1, 2, 4, 5, 6, 7, 8, 9, 10, 11, 13, 14]"
      ]
     },
     "execution_count": 192,
     "metadata": {},
     "output_type": "execute_result"
    }
   ],
   "source": [
    "from random import choice\n",
    "from math import ceil\n",
    "\n",
    "class pit():\n",
    "    '''Represent a pit in a mankala (bao) style game.\n",
    "    We assume locations are a grid overlaying the circular pit,\n",
    "    so we flag some locations as unusable (the corners)'''\n",
    "    def __init__(self, id=-1, n=4, player=1, n_target_pos=48, target=False):\n",
    "        self.id = id\n",
    "        if target:\n",
    "            self.cols = n\n",
    "            self.rows = int(ceil(n_target_pos / float(n)))\n",
    "        else:\n",
    "            self.rows = n\n",
    "            self.cols = n\n",
    "        self.loc = []\n",
    "        for j in range(self.rows * self.cols):\n",
    "            self.loc.append(list())\n",
    "        self.loc[0] = 'X'\n",
    "        self.loc[n-1] = 'X'\n",
    "        self.loc[-1] = 'X'\n",
    "        self.loc[-n] = 'X'\n",
    "        self.target = target\n",
    "        self.player = player\n",
    "        \n",
    "    def __repr__(self):\n",
    "        return '{}: {} {}'.format(self.id, self.count_stones(), ('(T)' if self.target else ''))\n",
    "\n",
    "    def print(self):\n",
    "        s = ''\n",
    "        for x in range(self.rows):\n",
    "            for y in range(self.cols):\n",
    "                p = self.loc[self.cols*x+y]\n",
    "                if p == \"X\":\n",
    "                    s += ' '\n",
    "                elif len(p) > 0:\n",
    "                    s += '*'\n",
    "                else:\n",
    "                    s += '.'\n",
    "            s += '\\n'\n",
    "        s +='{}: p{} {}'.format(self.id, self.player, ('(T)' if self.target else ''))\n",
    "        print(s)\n",
    "        \n",
    "    def free_locations(self, reuse=False):\n",
    "        ret = []\n",
    "        for (i, contents) in enumerate(self.loc):\n",
    "            if reuse == True and (contents != 'X' or len(contents) == 0):\n",
    "                ret += [i]\n",
    "            elif reuse == False and len(contents) == 0:\n",
    "                ret += [i]\n",
    "        return ret\n",
    "    \n",
    "    def add(self, stone):\n",
    "        '''Add the supplied stone to this pit'''\n",
    "        free = self.free_locations()\n",
    "        if (len(free)):\n",
    "            loc = choice(free)\n",
    "        else:\n",
    "            # no locations free\n",
    "            free = self.free_locations(reuse=True)\n",
    "            loc = choice(free)\n",
    "            \n",
    "        stone.position = loc\n",
    "        stone.pit = self.id\n",
    "        self.loc[loc].append(stone)\n",
    "        \n",
    "    def pickup_stones(self):\n",
    "        for i, stones in enumerate(self.loc):\n",
    "            if (stones != 'X') and (len(stones) > 0):\n",
    "                for stone in stones:\n",
    "                    stone.pit = None\n",
    "                    stone.position = None\n",
    "                    self.loc[i].remove(stone)\n",
    "\n",
    "    def count_stones(self, debug=False):\n",
    "        c = 0\n",
    "        for i,stones in enumerate(self.loc):\n",
    "            if debug:\n",
    "                print('{}:{} '.format(i,stones),end='')\n",
    "            if (stones != 'X') and (len(stones) > 0):\n",
    "                c = c + len(stones)\n",
    "        if debug:\n",
    "            print()\n",
    "        return c\n",
    "        \n",
    "\n",
    "n_pits = 2\n",
    "board = [pit(target=(i%(n_pits+1) == n_pits), player=(1 if i <= n_pits else 2), id=i) for i in range(2*n_pits + 2)]\n",
    "\n",
    "\n",
    "for p in board:\n",
    "    print(p)\n",
    "board[0].free_locations()"
   ]
  },
  {
   "cell_type": "code",
   "execution_count": null,
   "metadata": {
    "collapsed": true
   },
   "outputs": [],
   "source": []
  },
  {
   "cell_type": "code",
   "execution_count": 193,
   "metadata": {
    "collapsed": false
   },
   "outputs": [
    {
     "data": {
      "text/plain": [
       "[(id=0, pit=None, pos=None, color=#6666af),\n",
       " (id=1, pit=None, pos=None, color=#6666af),\n",
       " (id=2, pit=None, pos=None, color=#6666af),\n",
       " (id=3, pit=None, pos=None, color=#6666af),\n",
       " (id=4, pit=None, pos=None, color=#6666af),\n",
       " (id=5, pit=None, pos=None, color=#6666af)]"
      ]
     },
     "execution_count": 193,
     "metadata": {},
     "output_type": "execute_result"
    }
   ],
   "source": [
    "# Stones can be a list of tuples: (pit, pos, color)\n",
    "class stone():\n",
    "    def __init__(self, color=None, id=-1):\n",
    "        if color == None:\n",
    "            color = '#6666af'\n",
    "        self.pit = None\n",
    "        self.position = None\n",
    "        self.id = id\n",
    "        self.color = color\n",
    "\n",
    "    def __repr__(self):\n",
    "        return '(id={}, pit={}, pos={}, color={})'.format(self.id, self.pit, self.position, self.color)\n",
    "    \n",
    "\n",
    "n_stones=6\n",
    "ss = [stone(id=i) for i in range(n_stones)]\n",
    "ss"
   ]
  },
  {
   "cell_type": "code",
   "execution_count": 194,
   "metadata": {
    "collapsed": false
   },
   "outputs": [
    {
     "data": {
      "text/plain": [
       "[0: 1 , 1: 0 , 2: 0 (T), 3: 0 , 4: 0 , 5: 0 (T)]"
      ]
     },
     "execution_count": 194,
     "metadata": {},
     "output_type": "execute_result"
    }
   ],
   "source": [
    "board[0].add(ss[0])\n",
    "board"
   ]
  },
  {
   "cell_type": "code",
   "execution_count": 271,
   "metadata": {
    "collapsed": false
   },
   "outputs": [],
   "source": [
    "class bao_game():\n",
    "    def __init__(self, n_stones=36, n_pits=6, n_rows=1):\n",
    "        self.game_over = False\n",
    "        self.n_rows = n_rows\n",
    "        self.n_pits = n_pits\n",
    "        self.stones = [stone(id=i) for i in range(n_stones)]\n",
    "        self.pits = [pit(target=(i%(n_pits+1) == n_pits),\n",
    "                      player=(1 if i <= n_pits else 2),\n",
    "                      id=i) for i in range(2*n_pits + 2)]\n",
    "        self.targets = {}\n",
    "\n",
    "        self.get_player = self.toggle_player()\n",
    "        self.current_player = self.get_player.next()\n",
    "        # remember player targets\n",
    "        for p in self.pits:\n",
    "            if p.target:\n",
    "                self.targets[p.player] = p.id\n",
    "        \n",
    "    def __repr__(self):\n",
    "        s = '\\t\\t'\n",
    "        for i in range(self.n_pits + 1):\n",
    "            s += str(self.pits[i]) + '\\t'\n",
    "        s += '\\n'\n",
    "        for i in range(2 * self.n_pits + 1, self.n_pits, -1):\n",
    "            s += str(self.pits[i]) + '\\t'\n",
    "        return s + '\\nNext: Player {} \\tGame State: {}\\n'.format(self.current_player, 'Game Over' if self.game_over else 'Playing')\n",
    "    \n",
    "    def initial_place(self, debug=False):\n",
    "        '''Do the initial placement of stones. One in each non-target pit until we are out.'''\n",
    "        # Next unplaced stone\n",
    "        unplaced = (stone for stone in self.stones if stone.pit is None)\n",
    "        p = 0\n",
    "        try:\n",
    "            while True:\n",
    "                stone = unplaced.next()\n",
    "                if self.pits[p].target == True:\n",
    "                    p = (p + 1) % len(self.pits)\n",
    "                if debug:\n",
    "                    print('Placing stone {} in pit {}'.format(stone.id, self.pits[p].id))\n",
    "                self.pits[p].add(stone)\n",
    "                stone.color = '#6666af' if self.pits[p].player == 1 else '#75755e' \n",
    "                p = (p + 1) % len(self.pits)\n",
    "        except StopIteration:\n",
    "            pass\n",
    "    def is_player_target(self, pit_id):\n",
    "        if self.pits[pit_id].target and self.pits[pit_id].player == self.current_player:\n",
    "            return True\n",
    "        return False\n",
    "\n",
    "    def is_opponent_target(self, pit_id):\n",
    "        if self.pits[pit_id].target and self.pits[pit_id].player != self.current_player:\n",
    "            return True\n",
    "        return False\n",
    "\n",
    "    def toggle_player(self):\n",
    "        '''alternate between players'''\n",
    "        while True:\n",
    "            yield 1\n",
    "            yield 2\n",
    "            \n",
    "    def random_move(self):\n",
    "        '''choose a (valid) random move for the active player'''\n",
    "        pits_remaining = [p for p in self.pits if p.player == self.current_player and p.target != True and p.count_stones()]\n",
    "        move = choice(pits_remaining)\n",
    "        return move.id\n",
    "            \n",
    "    def sow(self, pit_id, dir='clockwise', debug=False):\n",
    "        '''Current player picks up the seeds in pit `pit_id`,\n",
    "        sowing in the direction specified by `dir`\n",
    "        '''\n",
    "        if self.current_player != self.pits[pit_id].player:\n",
    "            print(\"Not Your Turn!\")\n",
    "            return\n",
    "        if self.pits[pit_id].count_stones() == 0:\n",
    "            print(\"No stones here\")\n",
    "            return\n",
    "        if self.pits[pit_id].target:\n",
    "            print(\"can't sow a target\")\n",
    "            return\n",
    "        self.pits[pit_id].pickup_stones()\n",
    "        unplaced = (stone for stone in self.stones if stone.pit is None)\n",
    "        p = (pit_id + 1) % len(self.pits)\n",
    "        try:\n",
    "            while True:\n",
    "                stone = unplaced.next()\n",
    "                if self.is_opponent_target(p):\n",
    "                    p = (p + 1) % len(self.pits)\n",
    "                if debug:\n",
    "                    print('Sowing stone {} in pit {}'.format(stone.id, self.pits[p].id))\n",
    "                self.pits[p].add(stone)\n",
    "                last_p = p\n",
    "                p = (p + 1) % len(self.pits)\n",
    "        except StopIteration:\n",
    "            pass\n",
    "        if self.is_player_target(last_p):\n",
    "            # Landed in out target.\n",
    "            next_player = self.current_player\n",
    "        else:\n",
    "            next_player = self.get_player.next()\n",
    "        \n",
    "            # compute captures\n",
    "            if self.pits[last_p].player == self.current_player: # my pit\n",
    "                if self.pits[last_p].count_stones() == 1: # potential capture\n",
    "                    opp_p = (len(self.pits) - 2) - last_p\n",
    "                    if self.pits[opp_p].count_stones():\n",
    "                        # capture occurs\n",
    "                        self.pits[opp_p].pickup_stones()\n",
    "                        self.pits[last_p].pickup_stones()\n",
    "                        unplaced = (stone for stone in self.stones if stone.pit is None)\n",
    "                        try:\n",
    "                            while True:\n",
    "                                stone = unplaced.next()\n",
    "                                self.pits[self.targets[self.current_player]].add(stone)\n",
    "                        except StopIteration:\n",
    "                            pass\n",
    "        self.current_player = next_player\n",
    "        left = [p.count_stones() for p in self.pits if p.player == self.current_player and p.target != True]\n",
    "        if (sum(left) == 0):\n",
    "            # move remaining stones to target\n",
    "            self.current_player = self.get_player.next()\n",
    "            pits_remaining = [p for p in self.pits if p.player == self.current_player and p.target != True and p.count_stones()]\n",
    "            for p in pits_remaining:\n",
    "                p.pickup_stones()\n",
    "            last_moves = (stone for stone in self.stones if stone.pit is None)\n",
    "            try:\n",
    "                while True:\n",
    "                    stone = last_moves.next()\n",
    "                    self.pits[self.targets[self.current_player]].add(stone)\n",
    "            except StopIteration:\n",
    "                pass\n",
    "            self.game_over = True\n",
    "        return (self.game_over, next_player, self.stones)\n",
    "\n",
    "bao = bao_game()\n"
   ]
  },
  {
   "cell_type": "code",
   "execution_count": 272,
   "metadata": {
    "collapsed": false
   },
   "outputs": [],
   "source": [
    "bao.initial_place()"
   ]
  },
  {
   "cell_type": "code",
   "execution_count": null,
   "metadata": {
    "collapsed": false
   },
   "outputs": [],
   "source": []
  },
  {
   "cell_type": "code",
   "execution_count": null,
   "metadata": {
    "collapsed": false
   },
   "outputs": [],
   "source": []
  },
  {
   "cell_type": "code",
   "execution_count": 197,
   "metadata": {
    "collapsed": false
   },
   "outputs": [
    {
     "name": "stdout",
     "output_type": "stream",
     "text": [
      "\t\t0: 3 \t1: 3 \t2: 3 \t3: 0 \t4: 4 \t5: 0 \t6: 2 (T)\t\n",
      "13: 0 (T)\t12: 3 \t11: 3 \t10: 3 \t9: 4 \t8: 4 \t7: 4 \t\n",
      "Next: Player 2\n",
      "\n"
     ]
    }
   ],
   "source": [
    "# Main loop\n",
    "# if \n",
    "# (turn, stones, pits) = bao.sow(pitno, 'clockwise')\n",
    "bao.sow(3); bao.sow(5); print(bao)\n"
   ]
  },
  {
   "cell_type": "code",
   "execution_count": 198,
   "metadata": {
    "collapsed": false
   },
   "outputs": [
    {
     "name": "stdout",
     "output_type": "stream",
     "text": [
      "\t\t0: 3 \t1: 3 \t2: 3 \t3: 0 \t4: 4 \t5: 0 \t6: 2 (T)\t\n",
      "13: 0 (T)\t12: 3 \t11: 3 \t10: 3 \t9: 4 \t8: 4 \t7: 4 \t\n",
      "Next: Player 2\n",
      "\n"
     ]
    }
   ],
   "source": [
    "print(bao)"
   ]
  },
  {
   "cell_type": "code",
   "execution_count": 199,
   "metadata": {
    "collapsed": false
   },
   "outputs": [
    {
     "name": "stdout",
     "output_type": "stream",
     "text": [
      "\t\t0: 3 \t1: 3 \t2: 3 \t3: 0 \t4: 4 \t5: 0 \t6: 2 (T)\t\n",
      "13: 1 (T)\t12: 4 \t11: 4 \t10: 0 \t9: 4 \t8: 4 \t7: 4 \t\n",
      "Next: Player 2\n",
      "\n"
     ]
    }
   ],
   "source": [
    "bao.sow(10)\n",
    "print(bao)"
   ]
  },
  {
   "cell_type": "code",
   "execution_count": 200,
   "metadata": {
    "collapsed": false
   },
   "outputs": [
    {
     "name": "stdout",
     "output_type": "stream",
     "text": [
      "\t\t0: 3 \t1: 3 \t2: 3 \t3: 0 \t4: 4 \t5: 0 \t6: 2 (T)\t\n",
      "13: 2 (T)\t12: 5 \t11: 5 \t10: 1 \t9: 0 \t8: 4 \t7: 4 \t\n",
      "Next: Player 2\n",
      "\n"
     ]
    }
   ],
   "source": [
    "bao.sow(9)\n",
    "print(bao)"
   ]
  },
  {
   "cell_type": "code",
   "execution_count": 201,
   "metadata": {
    "collapsed": false
   },
   "outputs": [
    {
     "name": "stdout",
     "output_type": "stream",
     "text": [
      "\t\t0: 4 \t1: 4 \t2: 4 \t3: 1 \t4: 4 \t5: 0 \t6: 2 (T)\t\n",
      "13: 3 (T)\t12: 0 \t11: 5 \t10: 1 \t9: 0 \t8: 4 \t7: 4 \t\n",
      "Next: Player 1\n",
      "\n"
     ]
    }
   ],
   "source": [
    "bao.sow(12)\n",
    "print(bao)"
   ]
  },
  {
   "cell_type": "code",
   "execution_count": 202,
   "metadata": {
    "collapsed": false
   },
   "outputs": [
    {
     "name": "stdout",
     "output_type": "stream",
     "text": [
      "\t\t0: 4 \t1: 4 \t2: 0 \t3: 2 \t4: 5 \t5: 1 \t6: 3 (T)\t\n",
      "13: 3 (T)\t12: 0 \t11: 5 \t10: 1 \t9: 0 \t8: 4 \t7: 4 \t\n",
      "Next: Player 1\n",
      "\n"
     ]
    }
   ],
   "source": [
    "bao.sow(2)\n",
    "print(bao)"
   ]
  },
  {
   "cell_type": "code",
   "execution_count": 203,
   "metadata": {
    "collapsed": false
   },
   "outputs": [
    {
     "name": "stdout",
     "output_type": "stream",
     "text": [
      "\t\t0: 4 \t1: 4 \t2: 0 \t3: 2 \t4: 5 \t5: 0 \t6: 4 (T)\t\n",
      "13: 3 (T)\t12: 0 \t11: 5 \t10: 1 \t9: 0 \t8: 4 \t7: 4 \t\n",
      "Next: Player 1\n",
      "\n"
     ]
    }
   ],
   "source": [
    "bao.sow(5); print(bao)"
   ]
  },
  {
   "cell_type": "code",
   "execution_count": 204,
   "metadata": {
    "collapsed": false
   },
   "outputs": [
    {
     "name": "stdout",
     "output_type": "stream",
     "text": [
      "\t\t0: 4 \t1: 4 \t2: 0 \t3: 0 \t4: 6 \t5: 0 \t6: 9 (T)\t\n",
      "13: 3 (T)\t12: 0 \t11: 5 \t10: 1 \t9: 0 \t8: 4 \t7: 0 \t\n",
      "Next: Player 2\n",
      "\n"
     ]
    }
   ],
   "source": [
    "bao.sow(3); print(bao)"
   ]
  },
  {
   "cell_type": "code",
   "execution_count": 205,
   "metadata": {
    "collapsed": false
   },
   "outputs": [
    {
     "name": "stdout",
     "output_type": "stream",
     "text": [
      "\t\t0: 0 \t1: 4 \t2: 0 \t3: 0 \t4: 6 \t5: 0 \t6: 9 (T)\t\n",
      "13: 8 (T)\t12: 0 \t11: 6 \t10: 2 \t9: 1 \t8: 0 \t7: 0 \t\n",
      "Next: Player 1\n",
      "\n"
     ]
    }
   ],
   "source": [
    "bao.sow(8); print(bao)"
   ]
  },
  {
   "cell_type": "code",
   "execution_count": 206,
   "metadata": {
    "collapsed": false
   },
   "outputs": [
    {
     "name": "stdout",
     "output_type": "stream",
     "text": [
      "\t\t0: 0 \t1: 4 \t2: 0 \t3: 0 \t4: 0 \t5: 1 \t6: 10 (T)\t\n",
      "13: 8 (T)\t12: 0 \t11: 6 \t10: 3 \t9: 2 \t8: 1 \t7: 1 \t\n",
      "Next: Player 2\n",
      "\n"
     ]
    }
   ],
   "source": [
    "bao.sow(4); print(bao)"
   ]
  },
  {
   "cell_type": "code",
   "execution_count": 207,
   "metadata": {
    "collapsed": false
   },
   "outputs": [
    {
     "name": "stdout",
     "output_type": "stream",
     "text": [
      "\t\t0: 0 \t1: 4 \t2: 0 \t3: 0 \t4: 0 \t5: 1 \t6: 10 (T)\t\n",
      "13: 9 (T)\t12: 1 \t11: 7 \t10: 0 \t9: 2 \t8: 1 \t7: 1 \t\n",
      "Next: Player 2\n",
      "\n"
     ]
    }
   ],
   "source": [
    "bao.sow(10); print(bao)"
   ]
  },
  {
   "cell_type": "code",
   "execution_count": 208,
   "metadata": {
    "collapsed": false
   },
   "outputs": [
    {
     "name": "stdout",
     "output_type": "stream",
     "text": [
      "\t\t0: 1 \t1: 5 \t2: 1 \t3: 1 \t4: 1 \t5: 1 \t6: 10 (T)\t\n",
      "13: 10 (T)\t12: 2 \t11: 0 \t10: 0 \t9: 2 \t8: 1 \t7: 1 \t\n",
      "Next: Player 1\n",
      "\n"
     ]
    }
   ],
   "source": [
    "bao.sow(11); print(bao)"
   ]
  },
  {
   "cell_type": "code",
   "execution_count": 209,
   "metadata": {
    "collapsed": false
   },
   "outputs": [
    {
     "name": "stdout",
     "output_type": "stream",
     "text": [
      "\t\t0: 1 \t1: 5 \t2: 1 \t3: 1 \t4: 0 \t5: 0 \t6: 13 (T)\t\n",
      "13: 10 (T)\t12: 2 \t11: 0 \t10: 0 \t9: 2 \t8: 1 \t7: 0 \t\n",
      "Next: Player 2\n",
      "\n"
     ]
    }
   ],
   "source": [
    "bao.sow(5); bao.sow(4); print(bao)"
   ]
  },
  {
   "cell_type": "code",
   "execution_count": 210,
   "metadata": {
    "collapsed": false
   },
   "outputs": [
    {
     "name": "stdout",
     "output_type": "stream",
     "text": [
      "\t\t0: 1 \t1: 0 \t2: 1 \t3: 1 \t4: 0 \t5: 0 \t6: 13 (T)\t\n",
      "13: 16 (T)\t12: 2 \t11: 0 \t10: 1 \t9: 0 \t8: 1 \t7: 0 \t\n",
      "Next: Player 1\n",
      "\n"
     ]
    }
   ],
   "source": [
    "bao.sow(9); print(bao)"
   ]
  },
  {
   "cell_type": "code",
   "execution_count": 211,
   "metadata": {
    "collapsed": false
   },
   "outputs": [
    {
     "name": "stdout",
     "output_type": "stream",
     "text": [
      "\t\t0: 1 \t1: 0 \t2: 1 \t3: 0 \t4: 0 \t5: 0 \t6: 15 (T)\t\n",
      "13: 16 (T)\t12: 2 \t11: 0 \t10: 1 \t9: 0 \t8: 0 \t7: 0 \t\n",
      "Next: Player 2\n",
      "\n"
     ]
    }
   ],
   "source": [
    "bao.sow(3); print(bao)"
   ]
  },
  {
   "cell_type": "code",
   "execution_count": 212,
   "metadata": {
    "collapsed": false
   },
   "outputs": [
    {
     "name": "stdout",
     "output_type": "stream",
     "text": [
      "\t\t0: 2 \t1: 0 \t2: 1 \t3: 0 \t4: 0 \t5: 0 \t6: 15 (T)\t\n",
      "13: 17 (T)\t12: 0 \t11: 0 \t10: 1 \t9: 0 \t8: 0 \t7: 0 \t\n",
      "Next: Player 1\n",
      "\n"
     ]
    }
   ],
   "source": [
    "bao.sow(12); print(bao)"
   ]
  },
  {
   "cell_type": "code",
   "execution_count": 213,
   "metadata": {
    "collapsed": false
   },
   "outputs": [
    {
     "name": "stdout",
     "output_type": "stream",
     "text": [
      "\t\t0: 2 \t1: 0 \t2: 0 \t3: 1 \t4: 0 \t5: 0 \t6: 15 (T)\t\n",
      "13: 17 (T)\t12: 0 \t11: 0 \t10: 1 \t9: 0 \t8: 0 \t7: 0 \t\n",
      "Next: Player 2\n",
      "\n"
     ]
    }
   ],
   "source": [
    "bao.sow(2); print(bao)"
   ]
  },
  {
   "cell_type": "code",
   "execution_count": 214,
   "metadata": {
    "collapsed": false
   },
   "outputs": [
    {
     "name": "stdout",
     "output_type": "stream",
     "text": [
      "\t\t0: 2 \t1: 0 \t2: 0 \t3: 1 \t4: 0 \t5: 0 \t6: 15 (T)\t\n",
      "13: 17 (T)\t12: 0 \t11: 1 \t10: 0 \t9: 0 \t8: 0 \t7: 0 \t\n",
      "Next: Player 1\n",
      "\n"
     ]
    }
   ],
   "source": [
    "bao.sow(10); print(bao)"
   ]
  },
  {
   "cell_type": "code",
   "execution_count": 215,
   "metadata": {
    "collapsed": false
   },
   "outputs": [
    {
     "name": "stdout",
     "output_type": "stream",
     "text": [
      "\t\t0: 0 \t1: 1 \t2: 1 \t3: 1 \t4: 0 \t5: 0 \t6: 15 (T)\t\n",
      "13: 17 (T)\t12: 0 \t11: 1 \t10: 0 \t9: 0 \t8: 0 \t7: 0 \t\n",
      "Next: Player 2\n",
      "\n"
     ]
    }
   ],
   "source": [
    "bao.sow(0); print(bao)"
   ]
  },
  {
   "cell_type": "code",
   "execution_count": 216,
   "metadata": {
    "collapsed": false
   },
   "outputs": [
    {
     "name": "stdout",
     "output_type": "stream",
     "text": [
      "\t\t0: 0 \t1: 1 \t2: 1 \t3: 1 \t4: 0 \t5: 0 \t6: 15 (T)\t\n",
      "13: 17 (T)\t12: 1 \t11: 0 \t10: 0 \t9: 0 \t8: 0 \t7: 0 \t\n",
      "Next: Player 1\n",
      "\n"
     ]
    }
   ],
   "source": [
    "bao.sow(11); print(bao)"
   ]
  },
  {
   "cell_type": "code",
   "execution_count": 217,
   "metadata": {
    "collapsed": false
   },
   "outputs": [
    {
     "name": "stdout",
     "output_type": "stream",
     "text": [
      "\t\t0: 0 \t1: 1 \t2: 0 \t3: 2 \t4: 0 \t5: 0 \t6: 15 (T)\t\n",
      "13: 17 (T)\t12: 1 \t11: 0 \t10: 0 \t9: 0 \t8: 0 \t7: 0 \t\n",
      "Next: Player 2\n",
      "\n"
     ]
    }
   ],
   "source": [
    "bao.sow(2); print(bao)"
   ]
  },
  {
   "cell_type": "code",
   "execution_count": 218,
   "metadata": {
    "collapsed": false
   },
   "outputs": [
    {
     "name": "stdout",
     "output_type": "stream",
     "text": [
      "\t\t0: 0 \t1: 0 \t2: 0 \t3: 0 \t4: 0 \t5: 0 \t6: 18 (T)\t\n",
      "13: 18 (T)\t12: 0 \t11: 0 \t10: 0 \t9: 0 \t8: 0 \t7: 0 \t\n",
      "Next: Player 1\n",
      "\n"
     ]
    }
   ],
   "source": [
    "bao.sow(12); print(bao)"
   ]
  },
  {
   "cell_type": "code",
   "execution_count": null,
   "metadata": {
    "collapsed": true
   },
   "outputs": [],
   "source": []
  },
  {
   "cell_type": "code",
   "execution_count": null,
   "metadata": {
    "collapsed": true
   },
   "outputs": [],
   "source": []
  },
  {
   "cell_type": "code",
   "execution_count": 236,
   "metadata": {
    "collapsed": false
   },
   "outputs": [],
   "source": [
    "def random_game(bao = None, debug=False):\n",
    "    move_list = []\n",
    "    if bao is None:\n",
    "        bao=bao_game()\n",
    "        bao.initial_place()\n",
    "    if debug:\n",
    "        print(bao)\n",
    "    player = bao.current_player\n",
    "    mno = 1\n",
    "    move = bao.random_move()\n",
    "    move_list += [move]\n",
    "    if debug:\n",
    "        print ('Move {}: Player {} sows {}'.format(mno, player, move))\n",
    "    (done, player, stones) = bao.sow(move)\n",
    "    while not done:\n",
    "        if debug:\n",
    "            print(bao)\n",
    "        move = bao.random_move()\n",
    "        move_list += [move]\n",
    "        mno = mno + 1\n",
    "        if debug:\n",
    "            print ('Move {}: Player {} sows {}'.format(mno, player, move))\n",
    "        try:\n",
    "            (done, player, stones) = bao.sow(move)\n",
    "        except:\n",
    "            print(\"Error on game: {}\".format(move_list))\n",
    "            raise OverflowError\n",
    "\n",
    "    if debug:\n",
    "        print(bao)\n",
    "        print('Final score:')\n",
    "    scores = []\n",
    "    for player in [1,2]:\n",
    "        pscore = bao.pits[bao.targets[player]].count_stones()\n",
    "        if debug:\n",
    "            print(\"Player {}: {}\".format(player, pscore))\n",
    "        scores.append(pscore)\n",
    "    return (move_list, scores)\n",
    "\n",
    "    "
   ]
  },
  {
   "cell_type": "code",
   "execution_count": 245,
   "metadata": {
    "collapsed": false
   },
   "outputs": [
    {
     "name": "stdout",
     "output_type": "stream",
     "text": [
      "Error!: {}, {} [24, 11] [2, 9, 0, 12, 0, 11, 0, 7, 2, 12, 9, 5, 9, 4, 7, 5, 1, 9, 2, 10, 0, 7, 2, 12, 4, 0, 11, 8, 2, 10, 1, 9, 4, 11, 12, 1]\n"
     ]
    }
   ],
   "source": [
    "for gno in range(50000):    \n",
    "    try:\n",
    "        game, score = random_game()\n",
    "        #print('Game {}: {}\\n{}'.format(gno,score,game))\n",
    "        if (sum(score) != 36):\n",
    "            print(\"Error!: {}, {}\", score, game)\n",
    "            break\n",
    "        \n",
    "    except:\n",
    "        break"
   ]
  },
  {
   "cell_type": "code",
   "execution_count": 237,
   "metadata": {
    "collapsed": false
   },
   "outputs": [],
   "source": [
    "def play_game(move_list, debug=False):\n",
    "    bao=bao_game()\n",
    "    bao.initial_place()\n",
    "    mno = 1\n",
    "    for move in move_list:\n",
    "        if debug:\n",
    "            print('Player {} sows {}'.format(bao.current_player, move))\n",
    "        bao.sow(move)\n",
    "        if debug:\n",
    "            print(bao)\n",
    "\n",
    "    scores = []\n",
    "    for player in [1,2]:\n",
    "        pscore = bao.pits[bao.targets[player]].count_stones()\n",
    "        if debug:\n",
    "            print(\"Player {}: {}\".format(player, pscore))\n",
    "        scores.append(pscore)\n",
    "    return (bao, scores)\n",
    "        "
   ]
  },
  {
   "cell_type": "markdown",
   "metadata": {},
   "source": [
    "## Test Vectors and Error Conditions\n",
    "Using `random_game()` has found us a few bugs. \n",
    "\n",
    "* (more of a design limitation): What do we do when all 12 positions in a pit are used up? \n",
    "  * Answer: rewrite the code to put lists of stones at each position, and be content to draw them over top of each other\n",
    "\n",
    "* Ending the game with more than 12 positions full leaves stones on the board"
   ]
  },
  {
   "cell_type": "code",
   "execution_count": null,
   "metadata": {
    "collapsed": true
   },
   "outputs": [],
   "source": []
  },
  {
   "cell_type": "code",
   "execution_count": 260,
   "metadata": {
    "collapsed": true
   },
   "outputs": [],
   "source": [
    "t1 = (\"All positions full\", [1, 9, 2, 0, 7, 3, 11, 0, 10, 1, 11, 4, 7, 5, 11, 8, 0, 7, 3, 11, 2, 5, 4, 9, 1, 11])\n",
    "t2 = (\"Game ends with all positions full in a pit\", [2, 9, 0, 12, 0, 11, 0, 7, 2, 12, 9, 5, 9, 4, 7, 5, 1, 9, 2, 10, 0, 7, 2, 12, 4, 0, 11, 8, 2, 10, 1, 9, 4, 11, 12, 1])"
   ]
  },
  {
   "cell_type": "code",
   "execution_count": 261,
   "metadata": {
    "collapsed": false
   },
   "outputs": [
    {
     "name": "stdout",
     "output_type": "stream",
     "text": [
      "Player 1 sows 1\n",
      "\t\t0: 3 \t1: 0 \t2: 4 \t3: 4 \t4: 4 \t5: 3 \t6: 0 (T)\t\n",
      "13: 0 (T)\t12: 3 \t11: 3 \t10: 3 \t9: 3 \t8: 3 \t7: 3 \t\n",
      "Next: Player 2\n",
      "\n",
      "Player 2 sows 9\n",
      "\t\t0: 3 \t1: 0 \t2: 4 \t3: 4 \t4: 4 \t5: 3 \t6: 0 (T)\t\n",
      "13: 0 (T)\t12: 4 \t11: 4 \t10: 4 \t9: 0 \t8: 3 \t7: 3 \t\n",
      "Next: Player 1\n",
      "\n",
      "Player 1 sows 2\n",
      "\t\t0: 3 \t1: 0 \t2: 0 \t3: 5 \t4: 5 \t5: 4 \t6: 1 (T)\t\n",
      "13: 0 (T)\t12: 4 \t11: 4 \t10: 4 \t9: 0 \t8: 3 \t7: 3 \t\n",
      "Next: Player 1\n",
      "\n",
      "Player 1 sows 0\n",
      "\t\t0: 0 \t1: 1 \t2: 1 \t3: 6 \t4: 5 \t5: 4 \t6: 1 (T)\t\n",
      "13: 0 (T)\t12: 4 \t11: 4 \t10: 4 \t9: 0 \t8: 3 \t7: 3 \t\n",
      "Next: Player 2\n",
      "\n",
      "Player 2 sows 7\n",
      "\t\t0: 0 \t1: 1 \t2: 1 \t3: 6 \t4: 5 \t5: 4 \t6: 1 (T)\t\n",
      "13: 0 (T)\t12: 4 \t11: 4 \t10: 5 \t9: 1 \t8: 4 \t7: 0 \t\n",
      "Next: Player 1\n",
      "\n",
      "Player 1 sows 3\n",
      "\t\t0: 0 \t1: 1 \t2: 1 \t3: 0 \t4: 6 \t5: 5 \t6: 2 (T)\t\n",
      "13: 0 (T)\t12: 4 \t11: 4 \t10: 5 \t9: 2 \t8: 5 \t7: 1 \t\n",
      "Next: Player 2\n",
      "\n",
      "Player 2 sows 11\n",
      "\t\t0: 1 \t1: 2 \t2: 1 \t3: 0 \t4: 6 \t5: 5 \t6: 2 (T)\t\n",
      "13: 1 (T)\t12: 5 \t11: 0 \t10: 5 \t9: 2 \t8: 5 \t7: 1 \t\n",
      "Next: Player 1\n",
      "\n",
      "Player 1 sows 0\n",
      "\t\t0: 0 \t1: 3 \t2: 1 \t3: 0 \t4: 6 \t5: 5 \t6: 2 (T)\t\n",
      "13: 1 (T)\t12: 5 \t11: 0 \t10: 5 \t9: 2 \t8: 5 \t7: 1 \t\n",
      "Next: Player 2\n",
      "\n",
      "Player 2 sows 10\n",
      "\t\t0: 1 \t1: 4 \t2: 1 \t3: 0 \t4: 6 \t5: 5 \t6: 2 (T)\t\n",
      "13: 2 (T)\t12: 6 \t11: 1 \t10: 0 \t9: 2 \t8: 5 \t7: 1 \t\n",
      "Next: Player 1\n",
      "\n",
      "Player 1 sows 1\n",
      "\t\t0: 1 \t1: 0 \t2: 2 \t3: 1 \t4: 7 \t5: 6 \t6: 2 (T)\t\n",
      "13: 2 (T)\t12: 6 \t11: 1 \t10: 0 \t9: 2 \t8: 5 \t7: 1 \t\n",
      "Next: Player 2\n",
      "\n",
      "Player 2 sows 11\n",
      "\t\t0: 1 \t1: 0 \t2: 2 \t3: 1 \t4: 7 \t5: 6 \t6: 2 (T)\t\n",
      "13: 2 (T)\t12: 7 \t11: 0 \t10: 0 \t9: 2 \t8: 5 \t7: 1 \t\n",
      "Next: Player 1\n",
      "\n",
      "Player 1 sows 4\n",
      "\t\t0: 1 \t1: 0 \t2: 2 \t3: 1 \t4: 0 \t5: 7 \t6: 3 (T)\t\n",
      "13: 2 (T)\t12: 7 \t11: 1 \t10: 1 \t9: 3 \t8: 6 \t7: 2 \t\n",
      "Next: Player 2\n",
      "\n",
      "Player 2 sows 7\n",
      "\t\t0: 1 \t1: 0 \t2: 2 \t3: 1 \t4: 0 \t5: 7 \t6: 3 (T)\t\n",
      "13: 2 (T)\t12: 7 \t11: 1 \t10: 1 \t9: 4 \t8: 7 \t7: 0 \t\n",
      "Next: Player 1\n",
      "\n",
      "Player 1 sows 5\n",
      "\t\t0: 1 \t1: 0 \t2: 2 \t3: 1 \t4: 0 \t5: 0 \t6: 4 (T)\t\n",
      "13: 2 (T)\t12: 8 \t11: 2 \t10: 2 \t9: 5 \t8: 8 \t7: 1 \t\n",
      "Next: Player 2\n",
      "\n",
      "Player 2 sows 11\n",
      "\t\t0: 1 \t1: 0 \t2: 2 \t3: 1 \t4: 0 \t5: 0 \t6: 4 (T)\t\n",
      "13: 3 (T)\t12: 9 \t11: 0 \t10: 2 \t9: 5 \t8: 8 \t7: 1 \t\n",
      "Next: Player 2\n",
      "\n",
      "Player 2 sows 8\n",
      "\t\t0: 2 \t1: 1 \t2: 3 \t3: 1 \t4: 0 \t5: 0 \t6: 4 (T)\t\n",
      "13: 4 (T)\t12: 10 \t11: 1 \t10: 3 \t9: 6 \t8: 0 \t7: 1 \t\n",
      "Next: Player 1\n",
      "\n",
      "Player 1 sows 0\n",
      "\t\t0: 0 \t1: 2 \t2: 4 \t3: 1 \t4: 0 \t5: 0 \t6: 4 (T)\t\n",
      "13: 4 (T)\t12: 10 \t11: 1 \t10: 3 \t9: 6 \t8: 0 \t7: 1 \t\n",
      "Next: Player 2\n",
      "\n",
      "Player 2 sows 7\n",
      "\t\t0: 0 \t1: 2 \t2: 4 \t3: 1 \t4: 0 \t5: 0 \t6: 4 (T)\t\n",
      "13: 4 (T)\t12: 10 \t11: 1 \t10: 3 \t9: 6 \t8: 1 \t7: 0 \t\n",
      "Next: Player 1\n",
      "\n",
      "Player 1 sows 3\n",
      "\t\t0: 0 \t1: 2 \t2: 4 \t3: 0 \t4: 0 \t5: 0 \t6: 6 (T)\t\n",
      "13: 4 (T)\t12: 10 \t11: 1 \t10: 3 \t9: 6 \t8: 0 \t7: 0 \t\n",
      "Next: Player 2\n",
      "\n",
      "Player 2 sows 11\n",
      "\t\t0: 0 \t1: 2 \t2: 4 \t3: 0 \t4: 0 \t5: 0 \t6: 6 (T)\t\n",
      "13: 4 (T)\t12: 11 \t11: 0 \t10: 3 \t9: 6 \t8: 0 \t7: 0 \t\n",
      "Next: Player 1\n",
      "\n",
      "Player 1 sows 2\n",
      "\t\t0: 0 \t1: 2 \t2: 0 \t3: 1 \t4: 1 \t5: 1 \t6: 7 (T)\t\n",
      "13: 4 (T)\t12: 11 \t11: 0 \t10: 3 \t9: 6 \t8: 0 \t7: 0 \t\n",
      "Next: Player 1\n",
      "\n",
      "Player 1 sows 5\n",
      "\t\t0: 0 \t1: 2 \t2: 0 \t3: 1 \t4: 1 \t5: 0 \t6: 8 (T)\t\n",
      "13: 4 (T)\t12: 11 \t11: 0 \t10: 3 \t9: 6 \t8: 0 \t7: 0 \t\n",
      "Next: Player 1\n",
      "\n",
      "Player 1 sows 4\n",
      "\t\t0: 0 \t1: 2 \t2: 0 \t3: 1 \t4: 0 \t5: 1 \t6: 8 (T)\t\n",
      "13: 4 (T)\t12: 11 \t11: 0 \t10: 3 \t9: 6 \t8: 0 \t7: 0 \t\n",
      "Next: Player 2\n",
      "\n",
      "Player 2 sows 9\n",
      "\t\t0: 1 \t1: 3 \t2: 0 \t3: 1 \t4: 0 \t5: 1 \t6: 8 (T)\t\n",
      "13: 5 (T)\t12: 12 \t11: 1 \t10: 4 \t9: 0 \t8: 0 \t7: 0 \t\n",
      "Next: Player 1\n",
      "\n",
      "Player 1 sows 1\n",
      "\t\t0: 1 \t1: 0 \t2: 1 \t3: 2 \t4: 1 \t5: 1 \t6: 8 (T)\t\n",
      "13: 5 (T)\t12: 12 \t11: 1 \t10: 4 \t9: 0 \t8: 0 \t7: 0 \t\n",
      "Next: Player 2\n",
      "\n",
      "Player 2 sows 11\n",
      "\t\t0: 1 \t1: 0 \t2: 1 \t3: 2 \t4: 1 \t5: 1 \t6: 8 (T)\t\n",
      "13: 5 (T)\t12: 13 \t11: 0 \t10: 4 \t9: 0 \t8: 0 \t7: 0 \t\n",
      "Next: Player 1\n",
      "\n",
      "Player 1: 8\n",
      "Player 2: 5\n"
     ]
    }
   ],
   "source": [
    "bao,scores = play_game(t1[1], debug=True)"
   ]
  },
  {
   "cell_type": "markdown",
   "metadata": {},
   "source": [
    "We can play random games from this point to check if it is working"
   ]
  },
  {
   "cell_type": "code",
   "execution_count": 262,
   "metadata": {
    "collapsed": false
   },
   "outputs": [
    {
     "name": "stdout",
     "output_type": "stream",
     "text": [
      "\t\t0: 1 \t1: 0 \t2: 1 \t3: 2 \t4: 1 \t5: 1 \t6: 8 (T)\t\n",
      "13: 5 (T)\t12: 13 \t11: 0 \t10: 4 \t9: 0 \t8: 0 \t7: 0 \t\n",
      "Next: Player 1\n",
      "\n",
      "Move 1: Player 1 sows 4\n",
      "\t\t0: 1 \t1: 0 \t2: 1 \t3: 2 \t4: 0 \t5: 2 \t6: 8 (T)\t\n",
      "13: 5 (T)\t12: 13 \t11: 0 \t10: 4 \t9: 0 \t8: 0 \t7: 0 \t\n",
      "Next: Player 2\n",
      "\n",
      "Move 2: Player 2 sows 12\n",
      "\t\t0: 2 \t1: 0 \t2: 2 \t3: 3 \t4: 1 \t5: 3 \t6: 8 (T)\t\n",
      "13: 8 (T)\t12: 1 \t11: 0 \t10: 5 \t9: 1 \t8: 1 \t7: 1 \t\n",
      "Next: Player 1\n",
      "\n",
      "Move 3: Player 1 sows 4\n",
      "\t\t0: 2 \t1: 0 \t2: 2 \t3: 3 \t4: 0 \t5: 4 \t6: 8 (T)\t\n",
      "13: 8 (T)\t12: 1 \t11: 0 \t10: 5 \t9: 1 \t8: 1 \t7: 1 \t\n",
      "Next: Player 2\n",
      "\n",
      "Move 4: Player 2 sows 7\n",
      "\t\t0: 2 \t1: 0 \t2: 2 \t3: 3 \t4: 0 \t5: 4 \t6: 8 (T)\t\n",
      "13: 8 (T)\t12: 1 \t11: 0 \t10: 5 \t9: 1 \t8: 2 \t7: 0 \t\n",
      "Next: Player 1\n",
      "\n",
      "Move 5: Player 1 sows 3\n",
      "\t\t0: 2 \t1: 0 \t2: 2 \t3: 0 \t4: 1 \t5: 5 \t6: 9 (T)\t\n",
      "13: 8 (T)\t12: 1 \t11: 0 \t10: 5 \t9: 1 \t8: 2 \t7: 0 \t\n",
      "Next: Player 1\n",
      "\n",
      "Move 6: Player 1 sows 5\n",
      "\t\t0: 2 \t1: 0 \t2: 2 \t3: 0 \t4: 1 \t5: 0 \t6: 10 (T)\t\n",
      "13: 8 (T)\t12: 1 \t11: 0 \t10: 6 \t9: 2 \t8: 3 \t7: 1 \t\n",
      "Next: Player 2\n",
      "\n",
      "Move 7: Player 2 sows 12\n",
      "\t\t0: 2 \t1: 0 \t2: 2 \t3: 0 \t4: 1 \t5: 0 \t6: 10 (T)\t\n",
      "13: 9 (T)\t12: 0 \t11: 0 \t10: 6 \t9: 2 \t8: 3 \t7: 1 \t\n",
      "Next: Player 2\n",
      "\n",
      "Move 8: Player 2 sows 9\n",
      "\t\t0: 2 \t1: 0 \t2: 2 \t3: 0 \t4: 1 \t5: 0 \t6: 10 (T)\t\n",
      "13: 9 (T)\t12: 0 \t11: 1 \t10: 7 \t9: 0 \t8: 3 \t7: 1 \t\n",
      "Next: Player 1\n",
      "\n",
      "Move 9: Player 1 sows 0\n",
      "\t\t0: 0 \t1: 1 \t2: 3 \t3: 0 \t4: 1 \t5: 0 \t6: 10 (T)\t\n",
      "13: 9 (T)\t12: 0 \t11: 1 \t10: 7 \t9: 0 \t8: 3 \t7: 1 \t\n",
      "Next: Player 2\n",
      "\n",
      "Move 10: Player 2 sows 10\n",
      "\t\t0: 1 \t1: 2 \t2: 4 \t3: 1 \t4: 1 \t5: 0 \t6: 10 (T)\t\n",
      "13: 10 (T)\t12: 1 \t11: 2 \t10: 0 \t9: 0 \t8: 3 \t7: 1 \t\n",
      "Next: Player 1\n",
      "\n",
      "Move 11: Player 1 sows 3\n",
      "\t\t0: 1 \t1: 2 \t2: 4 \t3: 0 \t4: 2 \t5: 0 \t6: 10 (T)\t\n",
      "13: 10 (T)\t12: 1 \t11: 2 \t10: 0 \t9: 0 \t8: 3 \t7: 1 \t\n",
      "Next: Player 2\n",
      "\n",
      "Move 12: Player 2 sows 7\n",
      "\t\t0: 1 \t1: 2 \t2: 4 \t3: 0 \t4: 2 \t5: 0 \t6: 10 (T)\t\n",
      "13: 10 (T)\t12: 1 \t11: 2 \t10: 0 \t9: 0 \t8: 4 \t7: 0 \t\n",
      "Next: Player 1\n",
      "\n",
      "Move 13: Player 1 sows 2\n",
      "\t\t0: 1 \t1: 2 \t2: 0 \t3: 1 \t4: 3 \t5: 1 \t6: 11 (T)\t\n",
      "13: 10 (T)\t12: 1 \t11: 2 \t10: 0 \t9: 0 \t8: 4 \t7: 0 \t\n",
      "Next: Player 1\n",
      "\n",
      "Move 14: Player 1 sows 1\n",
      "\t\t0: 1 \t1: 0 \t2: 1 \t3: 2 \t4: 3 \t5: 1 \t6: 11 (T)\t\n",
      "13: 10 (T)\t12: 1 \t11: 2 \t10: 0 \t9: 0 \t8: 4 \t7: 0 \t\n",
      "Next: Player 2\n",
      "\n",
      "Move 15: Player 2 sows 11\n",
      "\t\t0: 1 \t1: 0 \t2: 1 \t3: 2 \t4: 3 \t5: 1 \t6: 11 (T)\t\n",
      "13: 11 (T)\t12: 2 \t11: 0 \t10: 0 \t9: 0 \t8: 4 \t7: 0 \t\n",
      "Next: Player 2\n",
      "\n",
      "Move 16: Player 2 sows 8\n",
      "\t\t0: 1 \t1: 0 \t2: 1 \t3: 2 \t4: 3 \t5: 1 \t6: 11 (T)\t\n",
      "13: 11 (T)\t12: 3 \t11: 1 \t10: 1 \t9: 1 \t8: 0 \t7: 0 \t\n",
      "Next: Player 1\n",
      "\n",
      "Move 17: Player 1 sows 5\n",
      "\t\t0: 1 \t1: 0 \t2: 1 \t3: 2 \t4: 3 \t5: 0 \t6: 12 (T)\t\n",
      "13: 11 (T)\t12: 3 \t11: 1 \t10: 1 \t9: 1 \t8: 0 \t7: 0 \t\n",
      "Next: Player 1\n",
      "\n",
      "Move 18: Player 1 sows 4\n",
      "\t\t0: 1 \t1: 0 \t2: 1 \t3: 2 \t4: 0 \t5: 1 \t6: 13 (T)\t\n",
      "13: 11 (T)\t12: 3 \t11: 1 \t10: 1 \t9: 1 \t8: 0 \t7: 1 \t\n",
      "Next: Player 2\n",
      "\n",
      "Move 19: Player 2 sows 11\n",
      "\t\t0: 1 \t1: 0 \t2: 1 \t3: 2 \t4: 0 \t5: 1 \t6: 13 (T)\t\n",
      "13: 11 (T)\t12: 4 \t11: 0 \t10: 1 \t9: 1 \t8: 0 \t7: 1 \t\n",
      "Next: Player 1\n",
      "\n",
      "Move 20: Player 1 sows 3\n",
      "\t\t0: 1 \t1: 0 \t2: 1 \t3: 0 \t4: 1 \t5: 2 \t6: 13 (T)\t\n",
      "13: 11 (T)\t12: 4 \t11: 0 \t10: 1 \t9: 1 \t8: 0 \t7: 1 \t\n",
      "Next: Player 2\n",
      "\n",
      "Move 21: Player 2 sows 9\n",
      "\t\t0: 1 \t1: 0 \t2: 1 \t3: 0 \t4: 1 \t5: 2 \t6: 13 (T)\t\n",
      "13: 11 (T)\t12: 4 \t11: 0 \t10: 2 \t9: 0 \t8: 0 \t7: 1 \t\n",
      "Next: Player 1\n",
      "\n",
      "Move 22: Player 1 sows 2\n",
      "\t\t0: 1 \t1: 0 \t2: 0 \t3: 1 \t4: 1 \t5: 2 \t6: 13 (T)\t\n",
      "13: 11 (T)\t12: 4 \t11: 0 \t10: 2 \t9: 0 \t8: 0 \t7: 1 \t\n",
      "Next: Player 2\n",
      "\n",
      "Move 23: Player 2 sows 7\n",
      "\t\t0: 1 \t1: 0 \t2: 0 \t3: 1 \t4: 0 \t5: 2 \t6: 13 (T)\t\n",
      "13: 13 (T)\t12: 4 \t11: 0 \t10: 2 \t9: 0 \t8: 0 \t7: 0 \t\n",
      "Next: Player 1\n",
      "\n",
      "Move 24: Player 1 sows 3\n",
      "\t\t0: 1 \t1: 0 \t2: 0 \t3: 0 \t4: 1 \t5: 2 \t6: 13 (T)\t\n",
      "13: 13 (T)\t12: 4 \t11: 0 \t10: 2 \t9: 0 \t8: 0 \t7: 0 \t\n",
      "Next: Player 2\n",
      "\n",
      "Move 25: Player 2 sows 10\n",
      "\t\t0: 1 \t1: 0 \t2: 0 \t3: 0 \t4: 1 \t5: 2 \t6: 13 (T)\t\n",
      "13: 13 (T)\t12: 5 \t11: 1 \t10: 0 \t9: 0 \t8: 0 \t7: 0 \t\n",
      "Next: Player 1\n",
      "\n",
      "Move 26: Player 1 sows 0\n",
      "\t\t0: 0 \t1: 0 \t2: 0 \t3: 0 \t4: 1 \t5: 2 \t6: 15 (T)\t\n",
      "13: 13 (T)\t12: 5 \t11: 0 \t10: 0 \t9: 0 \t8: 0 \t7: 0 \t\n",
      "Next: Player 2\n",
      "\n",
      "Move 27: Player 2 sows 12\n",
      "\t\t0: 1 \t1: 1 \t2: 1 \t3: 1 \t4: 1 \t5: 2 \t6: 15 (T)\t\n",
      "13: 14 (T)\t12: 0 \t11: 0 \t10: 0 \t9: 0 \t8: 0 \t7: 0 \t\n",
      "Next: Player 1\n",
      "\n",
      "Move 28: Player 1 sows 5\n",
      "\t\t0: 1 \t1: 1 \t2: 1 \t3: 1 \t4: 1 \t5: 0 \t6: 16 (T)\t\n",
      "13: 14 (T)\t12: 0 \t11: 0 \t10: 0 \t9: 0 \t8: 0 \t7: 1 \t\n",
      "Next: Player 2\n",
      "\n",
      "Move 29: Player 2 sows 7\n",
      "\t\t0: 1 \t1: 1 \t2: 1 \t3: 1 \t4: 0 \t5: 0 \t6: 16 (T)\t\n",
      "13: 16 (T)\t12: 0 \t11: 0 \t10: 0 \t9: 0 \t8: 0 \t7: 0 \t\n",
      "Next: Player 1\n",
      "\n",
      "Move 30: Player 1 sows 0\n",
      "\t\t0: 0 \t1: 0 \t2: 0 \t3: 0 \t4: 0 \t5: 0 \t6: 20 (T)\t\n",
      "13: 16 (T)\t12: 0 \t11: 0 \t10: 0 \t9: 0 \t8: 0 \t7: 0 \t\n",
      "Next: Player 1\n",
      "\n",
      "Final score:\n",
      "Player 1: 20\n",
      "Player 2: 16\n"
     ]
    },
    {
     "data": {
      "text/plain": [
       "([4,\n",
       "  12,\n",
       "  4,\n",
       "  7,\n",
       "  3,\n",
       "  5,\n",
       "  12,\n",
       "  9,\n",
       "  0,\n",
       "  10,\n",
       "  3,\n",
       "  7,\n",
       "  2,\n",
       "  1,\n",
       "  11,\n",
       "  8,\n",
       "  5,\n",
       "  4,\n",
       "  11,\n",
       "  3,\n",
       "  9,\n",
       "  2,\n",
       "  7,\n",
       "  3,\n",
       "  10,\n",
       "  0,\n",
       "  12,\n",
       "  5,\n",
       "  7,\n",
       "  0],\n",
       " [20, 16])"
      ]
     },
     "execution_count": 262,
     "metadata": {},
     "output_type": "execute_result"
    }
   ],
   "source": [
    "random_game(bao=bao, debug=True)"
   ]
  },
  {
   "cell_type": "code",
   "execution_count": null,
   "metadata": {
    "collapsed": true
   },
   "outputs": [],
   "source": [
    "bao.sow(bao.random_move)"
   ]
  },
  {
   "cell_type": "code",
   "execution_count": 273,
   "metadata": {
    "collapsed": false
   },
   "outputs": [
    {
     "data": {
      "text/plain": [
       "(\t\t0: 0 \t1: 0 \t2: 0 \t3: 1 \t4: 0 \t5: 0 \t6: 24 (T)\t\n",
       " 13: 11 (T)\t12: 0 \t11: 0 \t10: 0 \t9: 0 \t8: 0 \t7: 0 \t\n",
       " Next: Player 1 \tGame State: Game Over, [24, 11])"
      ]
     },
     "execution_count": 273,
     "metadata": {},
     "output_type": "execute_result"
    }
   ],
   "source": [
    "play_game(t2[1])"
   ]
  },
  {
   "cell_type": "code",
   "execution_count": 277,
   "metadata": {
    "collapsed": false
   },
   "outputs": [
    {
     "name": "stdout",
     "output_type": "stream",
     "text": [
      "\t\t0: 2 \t1: 1 \t2: 0 \t3: 13 \t4: 0 \t5: 4 \t6: 5 (T)\t\n",
      "13: 11 (T)\t12: 0 \t11: 0 \t10: 0 \t9: 0 \t8: 0 \t7: 0 \t\n",
      "Next: Player 1 \tGame State: Playing\n",
      "\n"
     ]
    }
   ],
   "source": [
    "# all but the last move\n",
    "bao, score = play_game(t2[1][:-1])\n",
    "print(bao)"
   ]
  },
  {
   "cell_type": "code",
   "execution_count": 278,
   "metadata": {
    "collapsed": false
   },
   "outputs": [
    {
     "name": "stdout",
     "output_type": "stream",
     "text": [
      "\t\t0: 0 \t1: 0 \t2: 0 \t3: 1 \t4: 0 \t5: 0 \t6: 24 (T)\t\n",
      "13: 11 (T)\t12: 0 \t11: 0 \t10: 0 \t9: 0 \t8: 0 \t7: 0 \t\n",
      "Next: Player 1 \tGame State: Game Over\n",
      "\n"
     ]
    }
   ],
   "source": [
    "bao.sow(1); print(bao)\n",
    "#random_game(bao=bao, debug=True)"
   ]
  },
  {
   "cell_type": "code",
   "execution_count": null,
   "metadata": {
    "collapsed": true
   },
   "outputs": [],
   "source": []
  },
  {
   "cell_type": "code",
   "execution_count": null,
   "metadata": {
    "collapsed": true
   },
   "outputs": [],
   "source": []
  }
 ],
 "metadata": {
  "kernelspec": {
   "display_name": "Python 2",
   "language": "python",
   "name": "python2"
  },
  "language_info": {
   "codemirror_mode": {
    "name": "ipython",
    "version": 2
   },
   "file_extension": ".py",
   "mimetype": "text/x-python",
   "name": "python",
   "nbconvert_exporter": "python",
   "pygments_lexer": "ipython2",
   "version": "2.7.11"
  }
 },
 "nbformat": 4,
 "nbformat_minor": 0
}
